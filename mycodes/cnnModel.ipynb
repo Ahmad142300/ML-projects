{
 "cells": [
  {
   "cell_type": "code",
   "execution_count": 13,
   "metadata": {},
   "outputs": [],
   "source": [
    "import os\n",
    "\n",
    "import xml.etree.ElementTree as ET\n",
    "# List files in the directory\n",
    "directory_path_to_targets = r'data\\VOC\\VOCdevkit\\VOC2012\\Annotations'\n",
    "directory_path_to_images = r'data\\VOC\\VOCdevkit\\VOC2012\\ImageSets'\n",
    "files_in_directory = os.listdir(r'data/VOC/VOCdevkit/VOC2012/Annotations')\n",
    "images_file_paths = os.listdir(r'data\\VOC\\VOCdevkit\\VOC2012\\JPEGImages')\n",
    "# Path to the XML file\n",
    "xml_file_path = os.path.join(directory_path_to_targets, files_in_directory[0])\n",
    "# Parse the XML file\n",
    "tree = ET.parse(xml_file_path)\n",
    "root = tree.getroot()\n",
    "\n",
    "# Print the root tag of the XML file\n"
   ]
  },
  {
   "cell_type": "code",
   "execution_count": 16,
   "metadata": {},
   "outputs": [
    {
     "name": "stdout",
     "output_type": "stream",
     "text": [
      "2007_000027.xml\n",
      "2007_000027.jpg\n"
     ]
    }
   ],
   "source": [
    "print(files_in_directory[0])\n",
    "print(images_file_paths[0])"
   ]
  },
  {
   "cell_type": "code",
   "execution_count": 25,
   "metadata": {},
   "outputs": [
    {
     "name": "stdout",
     "output_type": "stream",
     "text": [
      "Name tag: person\n",
      "<Element 'name' at 0x000001E0B5603240>\n",
      "<Element 'pose' at 0x000001E0B5603290>\n",
      "<Element 'truncated' at 0x000001E0B56032E0>\n",
      "<Element 'difficult' at 0x000001E0B5603330>\n",
      "<Element 'bndbox' at 0x000001E0B5603380>\n",
      "<Element 'part' at 0x000001E0B5603510>\n",
      "<Element 'part' at 0x000001E0B5603790>\n",
      "<Element 'part' at 0x000001E0B5603B50>\n",
      "<Element 'part' at 0x000001E0B5603C90>\n"
     ]
    }
   ],
   "source": [
    "# Extractroot filename, width, and height from the XML structure\n",
    "# Extract the name tag from the XML structure\n",
    "name_tag = root.find('object/name').text\n",
    "\n",
    "# Print the extracted values\n",
    "print(f\"Name tag: {name_tag}\")\n",
    "# get all the objects in the xml file and put them in a list\n",
    "objects = root.findall('object')\n",
    "# loop over the objects\n",
    "for obj in objects[0]:\n",
    "    print(obj)\n"
   ]
  },
  {
   "cell_type": "code",
   "execution_count": null,
   "metadata": {},
   "outputs": [],
   "source": [
    "import os\n",
    "from torch.utils.data import Dataset\n",
    "\n",
    "import xml.etree.ElementTree as ET\n",
    "\n",
    "class CustomDataset(Dataset):\n",
    "    def __init__(self, annotations_dir, images_dir, transform=None):\n",
    "\n",
    "    def __len__(self):\n",
    "\n",
    "    def __getitem__(self, idx):"
   ]
  }
 ],
 "metadata": {
  "kernelspec": {
   "display_name": "Python 3",
   "language": "python",
   "name": "python3"
  },
  "language_info": {
   "codemirror_mode": {
    "name": "ipython",
    "version": 3
   },
   "file_extension": ".py",
   "mimetype": "text/x-python",
   "name": "python",
   "nbconvert_exporter": "python",
   "pygments_lexer": "ipython3",
   "version": "3.11.4"
  }
 },
 "nbformat": 4,
 "nbformat_minor": 2
}
