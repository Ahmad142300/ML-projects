{
  "cells": [
    {
      "cell_type": "markdown",
      "metadata": {
        "id": "fEJ_E7ZGkSRa"
      },
      "source": [
        "## Task: Predict number of bikers on a given day using linear regression\n",
        "\n",
        "You are provided with a dataset about Seattle's Fremont Bridge in the form of a csv file.\n",
        "The data contains different details about a given day, like weather, temperature and other factors (see the dataframe preview below) for more details. The data also contains how many bikers were observed crossing the brudge that day.\n",
        "\n",
        "You are provided with the code to download and load the csv file.\n",
        "\n",
        "Your task is to train a linear regression model which takes in the parameters of the day (you can drop the columns that you think you don't need) and predicts the number of bikers according to those parameters."
      ]
    },
    {
      "cell_type": "code",
      "execution_count": 23,
      "metadata": {
        "id": "7uAMaDaamBP6"
      },
      "outputs": [],
      "source": [
        "from IPython.display import clear_output"
      ]
    },
    {
      "cell_type": "code",
      "execution_count": 24,
      "metadata": {
        "id": "vhGxkHdlmEiI"
      },
      "outputs": [],
      "source": [
        "# Don't modify this code\n",
        "\n",
        "\n",
        "%pip install gdown==4.5\n",
        "\n",
        "\n",
        "clear_output()"
      ]
    },
    {
      "cell_type": "code",
      "execution_count": 25,
      "metadata": {
        "colab": {
          "base_uri": "https://localhost:8080/"
        },
        "id": "QlS3O4RzjKcw",
        "outputId": "eeba53ce-38cf-4501-af47-ff019f82449c"
      },
      "outputs": [
        {
          "name": "stdout",
          "output_type": "stream",
          "text": [
            "Downloading...\n",
            "From: https://drive.google.com/uc?id=1_eJU8Y-31_l0oq1sSJT6pROJyo-ufuvD\n",
            "To: /home/ahmad/Downloads/bikers_data.csv\n",
            "100%|████████████████████████████████████████| 213k/213k [00:04<00:00, 45.6kB/s]\n"
          ]
        }
      ],
      "source": [
        "# Download the CSV file.\n",
        "!gdown 1_eJU8Y-31_l0oq1sSJT6pROJyo-ufuvD"
      ]
    },
    {
      "cell_type": "code",
      "execution_count": 26,
      "metadata": {
        "id": "-LKzVz90jUup"
      },
      "outputs": [],
      "source": [
        "import pandas as pd\n",
        "import numpy as np"
      ]
    },
    {
      "cell_type": "code",
      "execution_count": 27,
      "metadata": {
        "id": "l93SJ7Mcjmhx"
      },
      "outputs": [],
      "source": [
        "data_df = pd.read_csv('bikers_data.csv')"
      ]
    },
    {
      "cell_type": "code",
      "execution_count": 28,
      "metadata": {
        "colab": {
          "base_uri": "https://localhost:8080/",
          "height": 206
        },
        "id": "utr4g9CzjrC0",
        "outputId": "ba28fba8-16df-4b61-8f34-321b41722005"
      },
      "outputs": [
        {
          "data": {
            "text/html": [
              "<div>\n",
              "<style scoped>\n",
              "    .dataframe tbody tr th:only-of-type {\n",
              "        vertical-align: middle;\n",
              "    }\n",
              "\n",
              "    .dataframe tbody tr th {\n",
              "        vertical-align: top;\n",
              "    }\n",
              "\n",
              "    .dataframe thead th {\n",
              "        text-align: right;\n",
              "    }\n",
              "</style>\n",
              "<table border=\"1\" class=\"dataframe\">\n",
              "  <thead>\n",
              "    <tr style=\"text-align: right;\">\n",
              "      <th></th>\n",
              "      <th>Date</th>\n",
              "      <th>Number of bikers</th>\n",
              "      <th>Mon</th>\n",
              "      <th>Tue</th>\n",
              "      <th>Wed</th>\n",
              "      <th>Thu</th>\n",
              "      <th>Fri</th>\n",
              "      <th>Sat</th>\n",
              "      <th>Sun</th>\n",
              "      <th>holiday</th>\n",
              "      <th>daylight_hrs</th>\n",
              "      <th>Rainfall (in)</th>\n",
              "      <th>Temp (F)</th>\n",
              "      <th>dry day</th>\n",
              "    </tr>\n",
              "  </thead>\n",
              "  <tbody>\n",
              "    <tr>\n",
              "      <th>0</th>\n",
              "      <td>2012-10-03</td>\n",
              "      <td>14084.0</td>\n",
              "      <td>0.0</td>\n",
              "      <td>0.0</td>\n",
              "      <td>1.0</td>\n",
              "      <td>0.0</td>\n",
              "      <td>0.0</td>\n",
              "      <td>0.0</td>\n",
              "      <td>0.0</td>\n",
              "      <td>0.0</td>\n",
              "      <td>11.277359</td>\n",
              "      <td>0.0</td>\n",
              "      <td>56.0</td>\n",
              "      <td>1</td>\n",
              "    </tr>\n",
              "    <tr>\n",
              "      <th>1</th>\n",
              "      <td>2012-10-04</td>\n",
              "      <td>13900.0</td>\n",
              "      <td>0.0</td>\n",
              "      <td>0.0</td>\n",
              "      <td>0.0</td>\n",
              "      <td>1.0</td>\n",
              "      <td>0.0</td>\n",
              "      <td>0.0</td>\n",
              "      <td>0.0</td>\n",
              "      <td>0.0</td>\n",
              "      <td>11.219142</td>\n",
              "      <td>0.0</td>\n",
              "      <td>56.5</td>\n",
              "      <td>1</td>\n",
              "    </tr>\n",
              "    <tr>\n",
              "      <th>2</th>\n",
              "      <td>2012-10-05</td>\n",
              "      <td>12592.0</td>\n",
              "      <td>0.0</td>\n",
              "      <td>0.0</td>\n",
              "      <td>0.0</td>\n",
              "      <td>0.0</td>\n",
              "      <td>1.0</td>\n",
              "      <td>0.0</td>\n",
              "      <td>0.0</td>\n",
              "      <td>0.0</td>\n",
              "      <td>11.161038</td>\n",
              "      <td>0.0</td>\n",
              "      <td>59.5</td>\n",
              "      <td>1</td>\n",
              "    </tr>\n",
              "    <tr>\n",
              "      <th>3</th>\n",
              "      <td>2012-10-06</td>\n",
              "      <td>8024.0</td>\n",
              "      <td>0.0</td>\n",
              "      <td>0.0</td>\n",
              "      <td>0.0</td>\n",
              "      <td>0.0</td>\n",
              "      <td>0.0</td>\n",
              "      <td>1.0</td>\n",
              "      <td>0.0</td>\n",
              "      <td>0.0</td>\n",
              "      <td>11.103056</td>\n",
              "      <td>0.0</td>\n",
              "      <td>60.5</td>\n",
              "      <td>1</td>\n",
              "    </tr>\n",
              "    <tr>\n",
              "      <th>4</th>\n",
              "      <td>2012-10-07</td>\n",
              "      <td>8568.0</td>\n",
              "      <td>0.0</td>\n",
              "      <td>0.0</td>\n",
              "      <td>0.0</td>\n",
              "      <td>0.0</td>\n",
              "      <td>0.0</td>\n",
              "      <td>0.0</td>\n",
              "      <td>1.0</td>\n",
              "      <td>0.0</td>\n",
              "      <td>11.045208</td>\n",
              "      <td>0.0</td>\n",
              "      <td>60.5</td>\n",
              "      <td>1</td>\n",
              "    </tr>\n",
              "  </tbody>\n",
              "</table>\n",
              "</div>"
            ],
            "text/plain": [
              "         Date  Number of bikers  Mon  Tue  Wed  Thu  Fri  Sat  Sun  holiday  \\\n",
              "0  2012-10-03           14084.0  0.0  0.0  1.0  0.0  0.0  0.0  0.0      0.0   \n",
              "1  2012-10-04           13900.0  0.0  0.0  0.0  1.0  0.0  0.0  0.0      0.0   \n",
              "2  2012-10-05           12592.0  0.0  0.0  0.0  0.0  1.0  0.0  0.0      0.0   \n",
              "3  2012-10-06            8024.0  0.0  0.0  0.0  0.0  0.0  1.0  0.0      0.0   \n",
              "4  2012-10-07            8568.0  0.0  0.0  0.0  0.0  0.0  0.0  1.0      0.0   \n",
              "\n",
              "   daylight_hrs  Rainfall (in)  Temp (F)  dry day  \n",
              "0     11.277359            0.0      56.0        1  \n",
              "1     11.219142            0.0      56.5        1  \n",
              "2     11.161038            0.0      59.5        1  \n",
              "3     11.103056            0.0      60.5        1  \n",
              "4     11.045208            0.0      60.5        1  "
            ]
          },
          "execution_count": 28,
          "metadata": {},
          "output_type": "execute_result"
        }
      ],
      "source": [
        "data_df.head()"
      ]
    },
    {
      "cell_type": "code",
      "execution_count": 29,
      "metadata": {
        "id": "3rvUQNqPjsIS"
      },
      "outputs": [],
      "source": [
        "data_y = data_df['Number of bikers'] # target\n",
        "data_x = data_df.drop(['Number of bikers', 'Date'], axis=1) # features, dropping the object column"
      ]
    },
    {
      "cell_type": "code",
      "execution_count": 30,
      "metadata": {
        "colab": {
          "base_uri": "https://localhost:8080/",
          "height": 206
        },
        "id": "ORfTUDrdkJQm",
        "outputId": "fc96bd61-fa56-48a1-94c9-3e5ca459cf94"
      },
      "outputs": [
        {
          "data": {
            "text/html": [
              "<div>\n",
              "<style scoped>\n",
              "    .dataframe tbody tr th:only-of-type {\n",
              "        vertical-align: middle;\n",
              "    }\n",
              "\n",
              "    .dataframe tbody tr th {\n",
              "        vertical-align: top;\n",
              "    }\n",
              "\n",
              "    .dataframe thead th {\n",
              "        text-align: right;\n",
              "    }\n",
              "</style>\n",
              "<table border=\"1\" class=\"dataframe\">\n",
              "  <thead>\n",
              "    <tr style=\"text-align: right;\">\n",
              "      <th></th>\n",
              "      <th>Mon</th>\n",
              "      <th>Tue</th>\n",
              "      <th>Wed</th>\n",
              "      <th>Thu</th>\n",
              "      <th>Fri</th>\n",
              "      <th>Sat</th>\n",
              "      <th>Sun</th>\n",
              "      <th>holiday</th>\n",
              "      <th>daylight_hrs</th>\n",
              "      <th>Rainfall (in)</th>\n",
              "      <th>Temp (F)</th>\n",
              "      <th>dry day</th>\n",
              "    </tr>\n",
              "  </thead>\n",
              "  <tbody>\n",
              "    <tr>\n",
              "      <th>0</th>\n",
              "      <td>0.0</td>\n",
              "      <td>0.0</td>\n",
              "      <td>1.0</td>\n",
              "      <td>0.0</td>\n",
              "      <td>0.0</td>\n",
              "      <td>0.0</td>\n",
              "      <td>0.0</td>\n",
              "      <td>0.0</td>\n",
              "      <td>11.277359</td>\n",
              "      <td>0.0</td>\n",
              "      <td>56.0</td>\n",
              "      <td>1</td>\n",
              "    </tr>\n",
              "    <tr>\n",
              "      <th>1</th>\n",
              "      <td>0.0</td>\n",
              "      <td>0.0</td>\n",
              "      <td>0.0</td>\n",
              "      <td>1.0</td>\n",
              "      <td>0.0</td>\n",
              "      <td>0.0</td>\n",
              "      <td>0.0</td>\n",
              "      <td>0.0</td>\n",
              "      <td>11.219142</td>\n",
              "      <td>0.0</td>\n",
              "      <td>56.5</td>\n",
              "      <td>1</td>\n",
              "    </tr>\n",
              "    <tr>\n",
              "      <th>2</th>\n",
              "      <td>0.0</td>\n",
              "      <td>0.0</td>\n",
              "      <td>0.0</td>\n",
              "      <td>0.0</td>\n",
              "      <td>1.0</td>\n",
              "      <td>0.0</td>\n",
              "      <td>0.0</td>\n",
              "      <td>0.0</td>\n",
              "      <td>11.161038</td>\n",
              "      <td>0.0</td>\n",
              "      <td>59.5</td>\n",
              "      <td>1</td>\n",
              "    </tr>\n",
              "    <tr>\n",
              "      <th>3</th>\n",
              "      <td>0.0</td>\n",
              "      <td>0.0</td>\n",
              "      <td>0.0</td>\n",
              "      <td>0.0</td>\n",
              "      <td>0.0</td>\n",
              "      <td>1.0</td>\n",
              "      <td>0.0</td>\n",
              "      <td>0.0</td>\n",
              "      <td>11.103056</td>\n",
              "      <td>0.0</td>\n",
              "      <td>60.5</td>\n",
              "      <td>1</td>\n",
              "    </tr>\n",
              "    <tr>\n",
              "      <th>4</th>\n",
              "      <td>0.0</td>\n",
              "      <td>0.0</td>\n",
              "      <td>0.0</td>\n",
              "      <td>0.0</td>\n",
              "      <td>0.0</td>\n",
              "      <td>0.0</td>\n",
              "      <td>1.0</td>\n",
              "      <td>0.0</td>\n",
              "      <td>11.045208</td>\n",
              "      <td>0.0</td>\n",
              "      <td>60.5</td>\n",
              "      <td>1</td>\n",
              "    </tr>\n",
              "  </tbody>\n",
              "</table>\n",
              "</div>"
            ],
            "text/plain": [
              "   Mon  Tue  Wed  Thu  Fri  Sat  Sun  holiday  daylight_hrs  Rainfall (in)  \\\n",
              "0  0.0  0.0  1.0  0.0  0.0  0.0  0.0      0.0     11.277359            0.0   \n",
              "1  0.0  0.0  0.0  1.0  0.0  0.0  0.0      0.0     11.219142            0.0   \n",
              "2  0.0  0.0  0.0  0.0  1.0  0.0  0.0      0.0     11.161038            0.0   \n",
              "3  0.0  0.0  0.0  0.0  0.0  1.0  0.0      0.0     11.103056            0.0   \n",
              "4  0.0  0.0  0.0  0.0  0.0  0.0  1.0      0.0     11.045208            0.0   \n",
              "\n",
              "   Temp (F)  dry day  \n",
              "0      56.0        1  \n",
              "1      56.5        1  \n",
              "2      59.5        1  \n",
              "3      60.5        1  \n",
              "4      60.5        1  "
            ]
          },
          "execution_count": 30,
          "metadata": {},
          "output_type": "execute_result"
        }
      ],
      "source": [
        "data_x.head()"
      ]
    },
    {
      "cell_type": "code",
      "execution_count": 31,
      "metadata": {
        "colab": {
          "base_uri": "https://localhost:8080/"
        },
        "id": "uh2yhXfZkN3T",
        "outputId": "ff33e2eb-5a9b-4d57-b81f-df5482cfbd6a"
      },
      "outputs": [
        {
          "data": {
            "text/plain": [
              "0       14084.0\n",
              "1       13900.0\n",
              "2       12592.0\n",
              "3        8024.0\n",
              "4        8568.0\n",
              "         ...   \n",
              "2641     4552.0\n",
              "2642     3352.0\n",
              "2643     3692.0\n",
              "2644     7212.0\n",
              "2645     4568.0\n",
              "Name: Number of bikers, Length: 2646, dtype: float64"
            ]
          },
          "execution_count": 31,
          "metadata": {},
          "output_type": "execute_result"
        }
      ],
      "source": [
        "data_y"
      ]
    },
    {
      "cell_type": "markdown",
      "metadata": {},
      "source": [
        "defining the functions needed for linear regression"
      ]
    },
    {
      "cell_type": "code",
      "execution_count": 32,
      "metadata": {
        "id": "jXVeVAtXkQL4"
      },
      "outputs": [],
      "source": [
        "def linear_regression(X, y):\n",
        "    return np.linalg.inv(X.T @ X) @ X.T @ y\n",
        "def loss_fn(y, y_hat):\n",
        "    return 0.5 * np.mean((y - y_hat)**2)\n",
        "def make_predections(X, lp):\n",
        "    return X @ lp"
      ]
    },
    {
      "cell_type": "code",
      "execution_count": 33,
      "metadata": {},
      "outputs": [],
      "source": [
        "# library to split the data\n",
        "from sklearn.model_selection import train_test_split"
      ]
    },
    {
      "cell_type": "code",
      "execution_count": 34,
      "metadata": {},
      "outputs": [],
      "source": [
        "#splitting the data into train and test splits\n",
        "X_train, X_test, y_train, y_test = train_test_split(data_x, data_y, test_size=0.2, random_state=42)"
      ]
    },
    {
      "cell_type": "code",
      "execution_count": 35,
      "metadata": {},
      "outputs": [],
      "source": [
        "# Normalizing the data\n",
        "mus = X_train.mean()\n",
        "sigmas = X_train.std()\n",
        "\n",
        "X_train = ((X_train - mus) / sigmas).to_numpy()\n",
        "X_test = ((X_test - mus) / sigmas).to_numpy()\n",
        "\n",
        "# Adding the bias term\n",
        "X_train = np.concatenate([np.ones((X_train.shape[0], 1)), X_train], axis=1)\n",
        "X_test = np.concatenate([np.ones((X_test.shape[0], 1)), X_test], axis=1)\n",
        "\n",
        "y_train = y_train.to_numpy()\n",
        "y_test = y_test.to_numpy()"
      ]
    },
    {
      "cell_type": "code",
      "execution_count": 36,
      "metadata": {},
      "outputs": [],
      "source": [
        "# Training the model\n",
        "learned_parameters = linear_regression(X_train, y_train)"
      ]
    },
    {
      "cell_type": "code",
      "execution_count": 37,
      "metadata": {},
      "outputs": [
        {
          "name": "stdout",
          "output_type": "stream",
          "text": [
            "Loss on test set:  1562.5107394022948\n"
          ]
        }
      ],
      "source": [
        "#making predections using MSE\n",
        "predictions = make_predections(X_test, learned_parameters)\n",
        "print('Loss on test set: ', np.sqrt(loss_fn(y_test, predictions)))"
      ]
    },
    {
      "cell_type": "code",
      "execution_count": null,
      "metadata": {},
      "outputs": [],
      "source": []
    }
  ],
  "metadata": {
    "colab": {
      "provenance": []
    },
    "kernelspec": {
      "display_name": "Python 3",
      "name": "python3"
    },
    "language_info": {
      "codemirror_mode": {
        "name": "ipython",
        "version": 3
      },
      "file_extension": ".py",
      "mimetype": "text/x-python",
      "name": "python",
      "nbconvert_exporter": "python",
      "pygments_lexer": "ipython3",
      "version": "3.10.12"
    }
  },
  "nbformat": 4,
  "nbformat_minor": 0
}
