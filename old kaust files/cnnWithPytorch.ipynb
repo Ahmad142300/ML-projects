{
 "cells": [
  {
   "cell_type": "markdown",
   "metadata": {},
   "source": [
    "## Task: Train an EMNIST classifier\n",
    "\n",
    "EMNIST (or extended MNIST) is just like MNIST, a bunch of handwritten images, except instead of just digits (0-9) it also has uppercase and lowercase characters.\n",
    "\n",
    "You are provided with the code to load the EMNIST train and split **datasets**\n",
    "\n",
    "Write and train a classifier for EMNIST. Make sure to\n",
    "\n",
    "- Show how your loss(es) dropped during training.\n",
    "- Show final performance of your model on untrained data.\n",
    "- Maintain good code quality."
   ]
  },
  {
   "cell_type": "code",
   "execution_count": 1,
   "metadata": {},
   "outputs": [],
   "source": [
    "import torch\n",
    "import torch.nn as nn\n",
    "import torch.optim as optim\n",
    "\n",
    "import matplotlib.pyplot as plt\n",
    "import numpy as np\n",
    "\n",
    "import torchvision\n",
    "from torchvision.datasets import EMNIST\n",
    "import torchvision.transforms.functional as F\n",
    "import torch.nn.functional as F\n",
    "from torchvision import transforms\n",
    "from torch.utils.data import DataLoader, Subset"
   ]
  },
  {
   "cell_type": "code",
   "execution_count": 2,
   "metadata": {},
   "outputs": [],
   "source": [
    "train_data = EMNIST(root='emnist_data/', split='byclass', download=True)\n",
    "test_data = EMNIST(root='emnist_data/', split='byclass', download=True, train=False)"
   ]
  },
  {
   "cell_type": "code",
   "execution_count": 3,
   "metadata": {},
   "outputs": [
    {
     "name": "stdout",
     "output_type": "stream",
     "text": [
      "Number of classes in dataset: 62\n",
      "Unique labels: ['0', '1', '2', '3', '4', '5', '6', '7', '8', '9', 'A', 'B', 'C', 'D', 'E', 'F', 'G', 'H', 'I', 'J', 'K', 'L', 'M', 'N', 'O', 'P', 'Q', 'R', 'S', 'T', 'U', 'V', 'W', 'X', 'Y', 'Z', 'a', 'b', 'c', 'd', 'e', 'f', 'g', 'h', 'i', 'j', 'k', 'l', 'm', 'n', 'o', 'p', 'q', 'r', 's', 't', 'u', 'v', 'w', 'x', 'y', 'z']\n",
      "7\n"
     ]
    },
    {
     "data": {
      "image/png": "[encoded data removed]",
      "text/plain": [
       "<PIL.Image.Image image mode=L size=255x255>"
      ]
     },
     "execution_count": 3,
     "metadata": {},
     "output_type": "execute_result"
    }
   ],
   "source": [
    "# This cell is for demo purposes. feel free to remove it if you want.\n",
    "print('Number of classes in dataset:', len(train_data.classes))\n",
    "print('Unique labels:', train_data.classes)\n",
    "\n",
    "demo_img, demo_label = train_data[10]\n",
    "\n",
    "print(demo_label)\n",
    "torchvision.transforms.functional.resize(demo_img, (255, 255))"
   ]
  },
  {
   "cell_type": "code",
   "execution_count": 4,
   "metadata": {},
   "outputs": [
    {
     "name": "stdout",
     "output_type": "stream",
     "text": [
      "Training subset size: 139586\n",
      "Test subset size: 23264\n"
     ]
    }
   ],
   "source": [
    "# Transformations for the EMNIST dataset\n",
    "transform = transforms.Compose([\n",
    "    transforms.ToTensor(),\n",
    "])\n",
    "\n",
    "# Load the datasets\n",
    "train_data = EMNIST(root='emnist_data/', split='byclass', train=True, download=True, transform=transform)\n",
    "test_data = EMNIST(root='emnist_data/', split='byclass', train=False, download=True, transform=transform)\n",
    "\n",
    "# Define the size of the subset as a fraction of the original dataset\n",
    "subset_fraction = 0.2 ## You can play with this to get a bigger or smaller subset\n",
    "\n",
    "# Create indices for the training subset\n",
    "train_indices = np.random.choice(len(train_data), int(len(train_data) * subset_fraction), replace=False)\n",
    "\n",
    "# Create the training subset\n",
    "train_subset = Subset(train_data, train_indices)\n",
    "\n",
    "# For the test set, you can do the same or use the full test set\n",
    "test_indices = np.random.choice(len(test_data), int(len(test_data) * subset_fraction), replace=False)\n",
    "test_subset = Subset(test_data, test_indices)\n",
    "\n",
    "# Check the size of the subset\n",
    "print(f\"Training subset size: {len(train_subset)}\")\n",
    "print(f\"Test subset size: {len(test_subset)}\")\n",
    "\n",
    "# Define the DataLoaders\n",
    "train_loader = DataLoader(train_subset, batch_size=64, shuffle=True)\n",
    "test_loader = DataLoader(test_subset, batch_size=64, shuffle=False)"
   ]
  },
  {
   "cell_type": "markdown",
   "metadata": {},
   "source": [
    "## Defaining the Neural Network model"
   ]
  },
  {
   "cell_type": "code",
   "execution_count": 16,
   "metadata": {},
   "outputs": [
    {
     "name": "stdout",
     "output_type": "stream",
     "text": [
      "Using device cuda\n"
     ]
    }
   ],
   "source": [
    "num_epochs = 10\n",
    "lr = 1e-4\n",
    "\n",
    "device = 'cuda' if torch.cuda.is_available() else 'cpu'  # checks if machine supports cuda and if it does, we use that, otherwise cpu\n",
    "train_losses = []\n",
    "val_losses = []\n",
    "\n",
    "model = nn.Sequential(\n",
    "    nn.Conv2d(in_channels=1, out_channels=256, kernel_size=3, stride=1, padding=0),\n",
    "    nn.Tanh(),\n",
    "    # output size = (in - kernal_size + 2*padding) / stride + 1\n",
    "    #output size = 28-5+1 = 24\n",
    "    nn.MaxPool2d(kernel_size=2, stride=2),\n",
    "    #output size = 24/2 = 12\n",
    "    nn.Conv2d(in_channels=256, out_channels=128, kernel_size=3, stride=1, padding=0),\n",
    "    nn.Tanh(),\n",
    "    #output size = 12-5+1 = 8\n",
    "\n",
    "    nn.MaxPool2d(kernel_size=2, stride=2),\n",
    "    \n",
    "    nn.Conv2d(in_channels=128, out_channels=64, kernel_size=3, stride=1, padding=0),\n",
    "    nn.Flatten(), \n",
    "    nn.Linear(64*3*3, 1024),\n",
    "    nn.Tanh(),\n",
    "    nn.Linear(1024, 512),\n",
    "    nn.Tanh(),\n",
    "    nn.Linear(512, 62),  \n",
    "    nn.LogSoftmax(dim=1) \n",
    ")\n",
    "\n",
    "model.to(device)  # we need to send all input tensors as well as our model to this device. by default they are on cpu\n",
    "\n",
    "print(f'Using device {device}')\n",
    "\n",
    "\n",
    "optimizer = optim.Adam(model.parameters(), lr=lr)\n",
    "criterion = nn.CrossEntropyLoss()  # multi-class\n"
   ]
  },
  {
   "cell_type": "markdown",
   "metadata": {},
   "source": [
    "The training loop"
   ]
  },
  {
   "cell_type": "code",
   "execution_count": 17,
   "metadata": {},
   "outputs": [
    {
     "name": "stdout",
     "output_type": "stream",
     "text": [
      "Epoch: 0, train_loss=0.9061031351457236, val_loss=0.528. labelled 19275.000/23264 correctly (82.85333562585969% accuracy)\n",
      "Epoch: 1, train_loss=0.47841380024175706, val_loss=0.461. labelled 19543.000/23264 correctly (84.00533012379643% accuracy)\n",
      "Epoch: 2, train_loss=0.423712954418543, val_loss=0.424. labelled 19777.000/23264 correctly (85.01117606602476% accuracy)\n",
      "Epoch: 3, train_loss=0.3929408666539035, val_loss=0.419. labelled 19709.000/23264 correctly (84.71887895460797% accuracy)\n",
      "Epoch: 4, train_loss=0.3716304457540534, val_loss=0.406. labelled 19849.000/23264 correctly (85.32066712517194% accuracy)\n",
      "Epoch: 5, train_loss=0.35408802363096153, val_loss=0.407. labelled 19727.000/23264 correctly (84.79625171939477% accuracy)\n",
      "Epoch: 6, train_loss=0.3392602835990293, val_loss=0.399. labelled 19907.000/23264 correctly (85.56997936726273% accuracy)\n",
      "Epoch: 7, train_loss=0.3247436764096243, val_loss=0.401. labelled 19857.000/23264 correctly (85.35505502063275% accuracy)\n",
      "Epoch: 8, train_loss=0.3129597440380815, val_loss=0.397. labelled 19898.000/23264 correctly (85.53129298486932% accuracy)\n",
      "Epoch: 9, train_loss=0.300126456013432, val_loss=0.393. labelled 19944.000/23264 correctly (85.7290233837689% accuracy)\n",
      "Training complete on device cuda. Change device variable and run again to see the difference.\n"
     ]
    }
   ],
   "source": [
    "for epoch_no in range(num_epochs):\n",
    "\n",
    "  model.train()  # convert to train model. This turns out train-specific layers in the model (if you dont know about them, an example of them is dropout. more on this later)\n",
    "\n",
    "  epoch_weighted_loss = 0\n",
    "\n",
    "  for batch_X, batch_y in train_loader:\n",
    "\n",
    "    batch_X = batch_X.to(device)  # convert to [N, 28*28] shape where N is batch_size\n",
    "    batch_y = batch_y.to(device)\n",
    "\n",
    "    batch_y_probs = model(batch_X)  # outputs [N, 10] where each [:, 10] is probabilities for class (0-9)\n",
    "\n",
    "    loss = criterion(batch_y_probs, batch_y)\n",
    "\n",
    "    optimizer.zero_grad()  # need to clear out gradients from previous batch\n",
    "    loss.backward()  # calculate new gradients\n",
    "    optimizer.step()  # update weights\n",
    "\n",
    "    epoch_weighted_loss += (len(batch_y)*loss.item())\n",
    "\n",
    "  epoch_loss = epoch_weighted_loss/len(train_loader.dataset)\n",
    "  train_losses.append(epoch_loss)    # add loss for tracking. we'll visualize the loss trajectory later\n",
    "\n",
    "\n",
    "  # validation time\n",
    "\n",
    "  model.eval()  # take model to evaluation mode. turn off train-only layers\n",
    "  correctly_labelled = 0\n",
    "\n",
    "  with torch.no_grad():  # this makes our model to NOT track gradients\n",
    "\n",
    "    val_epoch_weighted_loss = 0\n",
    "\n",
    "    for val_batch_X, val_batch_y in test_loader:\n",
    "\n",
    "      val_batch_X = val_batch_X.to(device)\n",
    "      val_batch_y = val_batch_y.to(device)\n",
    "\n",
    "      val_batch_y_probs = model(val_batch_X)\n",
    "\n",
    "      loss = criterion(val_batch_y_probs, val_batch_y)\n",
    "      val_epoch_weighted_loss += (len(val_batch_y)*loss.item())\n",
    "\n",
    "      val_batch_y_pred = val_batch_y_probs.argmax(dim=1)  # convert probailities to labels by picking the label (index) with the highest prob\n",
    "\n",
    "      correctly_labelled += (val_batch_y_pred == val_batch_y).sum().item()  # item converts tensor to float/int/list\n",
    "\n",
    "  val_epoch_loss = val_epoch_weighted_loss/len(test_loader.dataset)\n",
    "  val_losses.append(val_epoch_loss)\n",
    "\n",
    "  print(f'Epoch: {epoch_no}, train_loss={epoch_loss:.3f}, val_loss={val_epoch_loss:.3f}. labelled {correctly_labelled}/{len(test_loader.dataset)} correctly ({correctly_labelled/len(test_loader.dataset)*100}% accuracy)')\n",
    "\n",
    "print(f'Training complete on device {device}. Change device variable and run again to see the difference.')"
   ]
  },
  {
   "cell_type": "markdown",
   "metadata": {},
   "source": [
    "Visualization for the model loss over epochs"
   ]
  },
  {
   "cell_type": "code",
   "execution_count": 11,
   "metadata": {},
   "outputs": [
    {
     "data": {
      "image/png": "[encoded data removed]",
      "text/plain": [
       "<Figure size 640x480 with 1 Axes>"
      ]
     },
     "metadata": {},
     "output_type": "display_data"
    }
   ],
   "source": [
    "plt.plot(train_losses, label='train loss')\n",
    "plt.plot(val_losses, label='val loss')\n",
    "plt.xlabel('Epoch')\n",
    "plt.ylabel('Loss (Cross Entropy)')\n",
    "plt.legend()\n",
    "plt.show()"
   ]
  },
  {
   "cell_type": "markdown",
   "metadata": {},
   "source": [
    "Validation"
   ]
  },
  {
   "cell_type": "code",
   "execution_count": 8,
   "metadata": {},
   "outputs": [
    {
     "name": "stdout",
     "output_type": "stream",
     "text": [
      "val_loss=0.40865796726540327. labelled 19855/23264 correctly (85.34645804676754% accuracy)\n"
     ]
    }
   ],
   "source": [
    "model.eval()\n",
    "correctly_labelled = 0\n",
    "with torch.no_grad():\n",
    "\n",
    "  val_epoch_weighted_loss = 0\n",
    "\n",
    "  for val_batch_X, val_batch_y in test_loader:\n",
    "    val_batch_X = val_batch_X.to(device)\n",
    "    val_batch_y = val_batch_y.to(device)\n",
    "\n",
    "    val_batch_y_probs = model(val_batch_X)\n",
    "\n",
    "    loss = criterion(val_batch_y_probs, val_batch_y)\n",
    "    val_epoch_weighted_loss += (len(val_batch_y)*loss.item())\n",
    "\n",
    "    val_batch_y_pred = val_batch_y_probs.argmax(dim=1)  # convert probailities to labels by picking the label (index) with the highest prob   \n",
    "\n",
    "    correctly_labelled += (val_batch_y_pred == val_batch_y).sum().item()  # item converts tensor to float/int/list\n",
    "\n",
    "val_epoch_loss = val_epoch_weighted_loss/len(test_loader.dataset)\n",
    "val_losses.append(val_epoch_loss)\n",
    "\n",
    "print(f'val_loss={val_epoch_loss}. labelled {correctly_labelled}/{len(test_loader.dataset)} correctly ({correctly_labelled/len(test_loader.dataset)*100}% accuracy)')\n"
   ]
  },
  {
   "cell_type": "code",
   "execution_count": null,
   "metadata": {},
   "outputs": [],
   "source": []
  }
 ],
 "metadata": {
  "kernelspec": {
   "display_name": "Python 3",
   "language": "python",
   "name": "python3"
  },
  "language_info": {
   "codemirror_mode": {
    "name": "ipython",
    "version": 3
   },
   "file_extension": ".py",
   "mimetype": "text/x-python",
   "name": "python",
   "nbconvert_exporter": "python",
   "pygments_lexer": "ipython3",
   "version": "3.11.3"
  }
 },
 "nbformat": 4,
 "nbformat_minor": 2
}
