{
  "cells": [
    {
      "cell_type": "markdown",
      "metadata": {
        "id": "zemWtDr8gVOf"
      },
      "source": [
        "## Task: Train an EMNIST classifier\n",
        "\n",
        "EMNIST (or extended MNIST) is just like MNIST, a bunch of handwritten images, except instead of just digits (0-9) it also has uppercase and lowercase characters.\n",
        "\n",
        "You are provided with the code to load the EMNIST train and split **datasets**\n",
        "\n",
        "Write and train a classifier for EMNIST. Make sure to\n",
        "\n",
        "- Show how your loss(es) dropped during training.\n",
        "- Show final performance of your model on untrained data.\n",
        "- Maintain good code quality."
      ]
    },
    {
      "cell_type": "code",
      "execution_count": 1,
      "metadata": {
        "id": "4GQMlmw2hwbn"
      },
      "outputs": [
        {
          "name": "stderr",
          "output_type": "stream",
          "text": [
            "c:\\Users\\trh00\\AppData\\Local\\Programs\\Python\\Python311\\Lib\\site-packages\\torchvision\\io\\image.py:13: UserWarning: Failed to load image Python extension: '[WinError 127] The specified procedure could not be found'If you don't plan on using image functionality from `torchvision.io`, you can ignore this warning. Otherwise, there might be something wrong with your environment. Did you have `libjpeg` or `libpng` installed before building `torchvision` from source?\n",
            "  warn(\n"
          ]
        }
      ],
      "source": [
        "import torch\n",
        "import torch.nn as nn\n",
        "import torch.optim as optim\n",
        "\n",
        "import matplotlib.pyplot as plt\n",
        "import numpy as np\n",
        "\n",
        "import torchvision\n",
        "from torchvision.datasets import EMNIST\n",
        "import torchvision.transforms.functional as F\n",
        "import torch.nn.functional as F\n",
        "from torchvision import transforms\n",
        "from torch.utils.data import DataLoader, Subset"
      ]
    },
    {
      "cell_type": "code",
      "execution_count": 2,
      "metadata": {
        "colab": {
          "base_uri": "https://localhost:8080/"
        },
        "id": "InCfHKZme7ga",
        "outputId": "2f7dc8ee-6452-460d-b62d-a4f29887383c"
      },
      "outputs": [],
      "source": [
        "train_data = EMNIST(root='emnist_data/', split='byclass', download=True)\n",
        "test_data = EMNIST(root='emnist_data/', split='byclass', download=True, train=False)"
      ]
    },
    {
      "cell_type": "code",
      "execution_count": 3,
      "metadata": {
        "colab": {
          "base_uri": "https://localhost:8080/",
          "height": 344
        },
        "id": "udb4rY5Vhaau",
        "outputId": "bcf53cfb-4675-4dd3-ccf3-d472b4243c8e"
      },
      "outputs": [
        {
          "name": "stdout",
          "output_type": "stream",
          "text": [
            "Number of classes in dataset: 62\n",
            "Unique labels: ['0', '1', '2', '3', '4', '5', '6', '7', '8', '9', 'A', 'B', 'C', 'D', 'E', 'F', 'G', 'H', 'I', 'J', 'K', 'L', 'M', 'N', 'O', 'P', 'Q', 'R', 'S', 'T', 'U', 'V', 'W', 'X', 'Y', 'Z', 'a', 'b', 'c', 'd', 'e', 'f', 'g', 'h', 'i', 'j', 'k', 'l', 'm', 'n', 'o', 'p', 'q', 'r', 's', 't', 'u', 'v', 'w', 'x', 'y', 'z']\n",
            "7\n"
          ]
        },
        {
          "data": {
            "image/jpeg": "[encoded data removed]",
            "image/png": "[encoded data removed]",
            "text/plain": [
              "<PIL.Image.Image image mode=L size=255x255>"
            ]
          },
          "execution_count": 3,
          "metadata": {},
          "output_type": "execute_result"
        }
      ],
      "source": [
        "# This cell is for demo purposes. feel free to remove it if you want.\n",
        "print('Number of classes in dataset:', len(train_data.classes))\n",
        "print('Unique labels:', train_data.classes)\n",
        "\n",
        "demo_img, demo_label = train_data[10]\n",
        "\n",
        "print(demo_label)\n",
        "torchvision.transforms.functional.resize(demo_img, (255, 255))"
      ]
    },
    {
      "cell_type": "code",
      "execution_count": 5,
      "metadata": {
        "colab": {
          "base_uri": "https://localhost:8080/"
        },
        "id": "Ia6MAyxqhiAi",
        "outputId": "aaaf83d2-5197-493e-dfff-04314751683d"
      },
      "outputs": [
        {
          "name": "stdout",
          "output_type": "stream",
          "text": [
            "Training subset size: 139586\n",
            "Test subset size: 23264\n"
          ]
        }
      ],
      "source": [
        "# Transformations for the EMNIST dataset\n",
        "transform = transforms.Compose([\n",
        "    transforms.ToTensor(),\n",
        "])\n",
        "\n",
        "# Load the datasets\n",
        "train_data = EMNIST(root='emnist_data/', split='byclass', train=True, download=True, transform=transform)\n",
        "test_data = EMNIST(root='emnist_data/', split='byclass', train=False, download=True, transform=transform)\n",
        "\n",
        "# Define the size of the subset as a fraction of the original dataset\n",
        "subset_fraction = 0.2 ## You can play with this to get a bigger or smaller subset\n",
        "\n",
        "# Create indices for the training subset\n",
        "train_indices = np.random.choice(len(train_data), int(len(train_data) * subset_fraction), replace=False)\n",
        "\n",
        "# Create the training subset\n",
        "train_subset = Subset(train_data, train_indices)\n",
        "\n",
        "# For the test set, you can do the same or use the full test set\n",
        "test_indices = np.random.choice(len(test_data), int(len(test_data) * subset_fraction), replace=False)\n",
        "test_subset = Subset(test_data, test_indices)\n",
        "\n",
        "# Check the size of the subset\n",
        "print(f\"Training subset size: {len(train_subset)}\")\n",
        "print(f\"Test subset size: {len(test_subset)}\")\n",
        "\n",
        "# Define the DataLoaders\n",
        "train_loader = DataLoader(train_subset, batch_size=64, shuffle=True)\n",
        "test_loader = DataLoader(test_subset, batch_size=64, shuffle=False)"
      ]
    },
    {
      "cell_type": "markdown",
      "metadata": {},
      "source": [
        "## Defaining the Neural Network model"
      ]
    },
    {
      "cell_type": "markdown",
      "metadata": {},
      "source": [
        "# CHECKPOINT"
      ]
    },
    {
      "cell_type": "code",
      "execution_count": 7,
      "metadata": {},
      "outputs": [
        {
          "name": "stdout",
          "output_type": "stream",
          "text": [
            "Using device cuda\n"
          ]
        }
      ],
      "source": [
        "num_epochs = 10\n",
        "lr = 1e-4\n",
        "\n",
        "device = 'cuda' if torch.cuda.is_available() else 'cpu'  # checks if machine supports cuda and if it does, we use that, otherwise cpu\n",
        "train_losses = []\n",
        "val_losses = []\n",
        "\n",
        "model = nn.Sequential(\n",
        "    nn.Linear(28*28, 1024),\n",
        "    nn.Tanh(),\n",
        "    nn.Linear(1024, 1024//2),\n",
        "    nn.Tanh(),\n",
        "    nn.Linear(1024//2, 1024//4),\n",
        "    nn.Tanh(),\n",
        "    nn.Linear(1024//4, 62),  # Adjusted for EMNIST classes\n",
        "    nn.LogSoftmax(dim=1)  # LogSoftmax for multi-class classification\n",
        ")\n",
        "optimizer = optim.Adam(model.parameters(), lr=lr)\n",
        "criterion = nn.CrossEntropyLoss()  # multi-class\n",
        "\n",
        "model.to(device)  # we need to send all input tensors as well as our model to this device. by default they are on cpu\n",
        "\n",
        "print(f'Using device {device}')"
      ]
    },
    {
      "cell_type": "markdown",
      "metadata": {},
      "source": [
        "Pre-train performance"
      ]
    },
    {
      "cell_type": "code",
      "execution_count": 8,
      "metadata": {},
      "outputs": [
        {
          "name": "stdout",
          "output_type": "stream",
          "text": [
            "val_loss=4.12706777711682. labelled 601/23264 correctly (2.5833906464924348% accuracy)\n",
            "CPU times: total: 6.42 s\n",
            "Wall time: 9.01 s\n"
          ]
        }
      ],
      "source": [
        "model.eval()\n",
        "correctly_labelled = 0\n",
        "with torch.no_grad():\n",
        "\n",
        "  val_epoch_weighted_loss = 0\n",
        "\n",
        "  for val_batch_X, val_batch_y in test_loader:\n",
        "    val_batch_X = val_batch_X.view(-1, 28*28).to(device)\n",
        "    val_batch_y = val_batch_y.to(device)\n",
        "\n",
        "    val_batch_y_probs = model(val_batch_X)\n",
        "\n",
        "    loss = criterion(val_batch_y_probs, val_batch_y)\n",
        "    val_epoch_weighted_loss += (len(val_batch_y)*loss.item())\n",
        "\n",
        "    val_batch_y_pred = val_batch_y_probs.argmax(dim=1)  # convert probailities to labels by picking the label (index) with the highest prob   \n",
        "\n",
        "    correctly_labelled += (val_batch_y_pred == val_batch_y).sum().item()  # item converts tensor to float/int/list\n",
        "\n",
        "val_epoch_loss = val_epoch_weighted_loss/len(test_loader.dataset)\n",
        "val_losses.append(val_epoch_loss)\n",
        "\n",
        "print(f'val_loss={val_epoch_loss}. labelled {correctly_labelled}/{len(test_loader.dataset)} correctly ({correctly_labelled/len(test_loader.dataset)*100}% accuracy)')\n"
      ]
    },
    {
      "cell_type": "markdown",
      "metadata": {},
      "source": [
        "The training loop"
      ]
    },
    {
      "cell_type": "code",
      "execution_count": 9,
      "metadata": {},
      "outputs": [
        {
          "name": "stdout",
          "output_type": "stream",
          "text": [
            "Epoch: 0, train_loss=1.3740953058057757, val_loss=0.9366650168144719. labelled 17021/23264 correctly (73.16454607977991% accuracy)\n",
            "Epoch: 1, train_loss=0.8132433829644655, val_loss=0.7184192712074133. labelled 18126/23264 correctly (77.91437414030261% accuracy)\n",
            "Epoch: 2, train_loss=0.659809670437645, val_loss=0.6232683697133805. labelled 18629/23264 correctly (80.07651306740028% accuracy)\n",
            "Epoch: 3, train_loss=0.5819577806028531, val_loss=0.5720933131371436. labelled 18919/23264 correctly (81.32307427785419% accuracy)\n",
            "Epoch: 4, train_loss=0.532945514930517, val_loss=0.5405933827448743. labelled 19099/23264 correctly (82.09680192572215% accuracy)\n",
            "Epoch: 5, train_loss=0.4975659546366789, val_loss=0.5175887293795935. labelled 19222/23264 correctly (82.62551581843192% accuracy)\n",
            "Epoch: 6, train_loss=0.469550343229913, val_loss=0.5091362293025651. labelled 19241/23264 correctly (82.7071870701513% accuracy)\n",
            "Epoch: 7, train_loss=0.4480437517545963, val_loss=0.49234929963679885. labelled 19345/23264 correctly (83.15422971114168% accuracy)\n",
            "Epoch: 8, train_loss=0.42813821332073754, val_loss=0.48729335962496234. labelled 19381/23264 correctly (83.30897524071527% accuracy)\n",
            "Epoch: 9, train_loss=0.41130427582706364, val_loss=0.4813460403492231. labelled 19357/23264 correctly (83.20581155433288% accuracy)\n",
            "Training complete on device cuda. Change device variable and run again to see the difference.\n",
            "CPU times: total: 6min 37s\n",
            "Wall time: 7min 1s\n"
          ]
        }
      ],
      "source": [
        "for epoch_no in range(num_epochs):\n",
        "\n",
        "  model.train()  # convert to train model. This turns out train-specific layers in the model (if you dont know about them, an example of them is dropout. more on this later)\n",
        "\n",
        "  epoch_weighted_loss = 0\n",
        "\n",
        "  for batch_X, batch_y in train_loader:\n",
        "\n",
        "    batch_X = batch_X.view(-1, 28*28).to(device)  # convert to [N, 28*28] shape where N is batch_size\n",
        "    batch_y = batch_y.to(device)\n",
        "\n",
        "    batch_y_probs = model(batch_X)  # outputs [N, 10] where each [:, 10] is probabilities for class (0-9)\n",
        "\n",
        "    loss = criterion(batch_y_probs, batch_y)\n",
        "\n",
        "    optimizer.zero_grad()  # need to clear out gradients from previous batch\n",
        "    loss.backward()  # calculate new gradients\n",
        "    optimizer.step()  # update weights\n",
        "\n",
        "    epoch_weighted_loss += (len(batch_y)*loss.item())\n",
        "\n",
        "  epoch_loss = epoch_weighted_loss/len(train_loader.dataset)\n",
        "  train_losses.append(epoch_loss)    # add loss for tracking. we'll visualize the loss trajectory later\n",
        "\n",
        "\n",
        "  # validation time\n",
        "\n",
        "  model.eval()  # take model to evaluation mode. turn off train-only layers\n",
        "  correctly_labelled = 0\n",
        "\n",
        "  with torch.no_grad():  # this makes our model to NOT track gradients\n",
        "\n",
        "    val_epoch_weighted_loss = 0\n",
        "\n",
        "    for val_batch_X, val_batch_y in test_loader:\n",
        "\n",
        "      val_batch_X = val_batch_X.view(-1, 28*28).to(device)\n",
        "      val_batch_y = val_batch_y.to(device)\n",
        "\n",
        "      val_batch_y_probs = model(val_batch_X)\n",
        "\n",
        "      loss = criterion(val_batch_y_probs, val_batch_y)\n",
        "      val_epoch_weighted_loss += (len(val_batch_y)*loss.item())\n",
        "\n",
        "      val_batch_y_pred = val_batch_y_probs.argmax(dim=1)  # convert probailities to labels by picking the label (index) with the highest prob\n",
        "\n",
        "      correctly_labelled += (val_batch_y_pred == val_batch_y).sum().item()  # item converts tensor to float/int/list\n",
        "\n",
        "  val_epoch_loss = val_epoch_weighted_loss/len(test_loader.dataset)\n",
        "  val_losses.append(val_epoch_loss)\n",
        "\n",
        "  print(f'Epoch: {epoch_no}, train_loss={epoch_loss}, val_loss={val_epoch_loss}. labelled {correctly_labelled}/{len(test_loader.dataset)} correctly ({correctly_labelled/len(test_loader.dataset)*100}% accuracy)')\n",
        "\n",
        "print(f'Training complete on device {device}. Change device variable and run again to see the difference.')"
      ]
    },
    {
      "cell_type": "markdown",
      "metadata": {},
      "source": [
        "Visualization for the model loss over epochs"
      ]
    },
    {
      "cell_type": "code",
      "execution_count": 10,
      "metadata": {},
      "outputs": [
        {
          "data": {
            "image/png": "[encoded data removed]",
            "text/plain": [
              "<Figure size 640x480 with 1 Axes>"
            ]
          },
          "metadata": {},
          "output_type": "display_data"
        }
      ],
      "source": [
        "plt.plot(train_losses, label='train loss')\n",
        "plt.plot(val_losses, label='val loss')\n",
        "plt.xlabel('Epoch')\n",
        "plt.ylabel('Loss (Cross Entropy)')\n",
        "plt.legend()\n",
        "plt.show()"
      ]
    },
    {
      "cell_type": "code",
      "execution_count": null,
      "metadata": {},
      "outputs": [],
      "source": []
    }
  ],
  "metadata": {
    "colab": {
      "provenance": []
    },
    "kernelspec": {
      "display_name": "Python 3",
      "name": "python3"
    },
    "language_info": {
      "codemirror_mode": {
        "name": "ipython",
        "version": 3
      },
      "file_extension": ".py",
      "mimetype": "text/x-python",
      "name": "python",
      "nbconvert_exporter": "python",
      "pygments_lexer": "ipython3",
      "version": "3.11.4"
    }
  },
  "nbformat": 4,
  "nbformat_minor": 0
}
