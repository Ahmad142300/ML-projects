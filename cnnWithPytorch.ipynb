{
 "cells": [
  {
   "cell_type": "markdown",
   "metadata": {},
   "source": [
    "## Task: Train an EMNIST classifier\n",
    "\n",
    "EMNIST (or extended MNIST) is just like MNIST, a bunch of handwritten images, except instead of just digits (0-9) it also has uppercase and lowercase characters.\n",
    "\n",
    "You are provided with the code to load the EMNIST train and split **datasets**\n",
    "\n",
    "Write and train a classifier for EMNIST. Make sure to\n",
    "\n",
    "- Show how your loss(es) dropped during training.\n",
    "- Show final performance of your model on untrained data.\n",
    "- Maintain good code quality."
   ]
  },
  {
   "cell_type": "code",
   "execution_count": 1,
   "metadata": {},
   "outputs": [],
   "source": [
    "import torch\n",
    "import torch.nn as nn\n",
    "import torch.optim as optim\n",
    "\n",
    "import matplotlib.pyplot as plt\n",
    "import numpy as np\n",
    "\n",
    "import torchvision\n",
    "from torchvision.datasets import EMNIST\n",
    "import torchvision.transforms.functional as F\n",
    "import torch.nn.functional as F\n",
    "from torchvision import transforms\n",
    "from torch.utils.data import DataLoader, Subset"
   ]
  },
  {
   "cell_type": "code",
   "execution_count": 2,
   "metadata": {},
   "outputs": [],
   "source": [
    "train_data = EMNIST(root='emnist_data/', split='byclass', download=True)\n",
    "test_data = EMNIST(root='emnist_data/', split='byclass', download=True, train=False)"
   ]
  },
  {
   "cell_type": "code",
   "execution_count": 3,
   "metadata": {},
   "outputs": [
    {
     "name": "stdout",
     "output_type": "stream",
     "text": [
      "Number of classes in dataset: 62\n",
      "Unique labels: ['0', '1', '2', '3', '4', '5', '6', '7', '8', '9', 'A', 'B', 'C', 'D', 'E', 'F', 'G', 'H', 'I', 'J', 'K', 'L', 'M', 'N', 'O', 'P', 'Q', 'R', 'S', 'T', 'U', 'V', 'W', 'X', 'Y', 'Z', 'a', 'b', 'c', 'd', 'e', 'f', 'g', 'h', 'i', 'j', 'k', 'l', 'm', 'n', 'o', 'p', 'q', 'r', 's', 't', 'u', 'v', 'w', 'x', 'y', 'z']\n",
      "7\n"
     ]
    },
    {
     "data": {
      "image/png": "[encoded data removed]",
      "text/plain": [
       "<PIL.Image.Image image mode=L size=255x255>"
      ]
     },
     "execution_count": 3,
     "metadata": {},
     "output_type": "execute_result"
    }
   ],
   "source": [
    "# This cell is for demo purposes. feel free to remove it if you want.\n",
    "print('Number of classes in dataset:', len(train_data.classes))\n",
    "print('Unique labels:', train_data.classes)\n",
    "\n",
    "demo_img, demo_label = train_data[10]\n",
    "\n",
    "print(demo_label)\n",
    "torchvision.transforms.functional.resize(demo_img, (255, 255))"
   ]
  },
  {
   "cell_type": "code",
   "execution_count": 4,
   "metadata": {},
   "outputs": [
    {
     "name": "stdout",
     "output_type": "stream",
     "text": [
      "Training subset size: 139586\n",
      "Test subset size: 23264\n"
     ]
    }
   ],
   "source": [
    "# Transformations for the EMNIST dataset\n",
    "transform = transforms.Compose([\n",
    "    transforms.ToTensor(),\n",
    "])\n",
    "\n",
    "# Load the datasets\n",
    "train_data = EMNIST(root='emnist_data/', split='byclass', train=True, download=True, transform=transform)\n",
    "test_data = EMNIST(root='emnist_data/', split='byclass', train=False, download=True, transform=transform)\n",
    "\n",
    "# Define the size of the subset as a fraction of the original dataset\n",
    "subset_fraction = 0.2 ## You can play with this to get a bigger or smaller subset\n",
    "\n",
    "# Create indices for the training subset\n",
    "train_indices = np.random.choice(len(train_data), int(len(train_data) * subset_fraction), replace=False)\n",
    "\n",
    "# Create the training subset\n",
    "train_subset = Subset(train_data, train_indices)\n",
    "\n",
    "# For the test set, you can do the same or use the full test set\n",
    "test_indices = np.random.choice(len(test_data), int(len(test_data) * subset_fraction), replace=False)\n",
    "test_subset = Subset(test_data, test_indices)\n",
    "\n",
    "# Check the size of the subset\n",
    "print(f\"Training subset size: {len(train_subset)}\")\n",
    "print(f\"Test subset size: {len(test_subset)}\")\n",
    "\n",
    "# Define the DataLoaders\n",
    "train_loader = DataLoader(train_subset, batch_size=64, shuffle=True)\n",
    "test_loader = DataLoader(test_subset, batch_size=64, shuffle=False)"
   ]
  },
  {
   "cell_type": "markdown",
   "metadata": {},
   "source": [
    "## Defaining the Neural Network model"
   ]
  },
  {
   "cell_type": "code",
   "execution_count": 37,
   "metadata": {},
   "outputs": [],
   "source": [
    "model = nn.Sequential(\n",
    "    nn.Conv2d(in_channels=1, out_channels=16, kernel_size=3, stride=1, padding=1),\n",
    "    nn.Tanh(),\n",
    "    nn.MaxPool2d(kernel_size=2, stride=2),\n",
    "    nn.Conv2d(in_channels=16, out_channels=32, kernel_size=3, stride=1, padding=1),\n",
    "    nn.Tanh(),\n",
    "    nn.MaxPool2d(kernel_size=2, stride=2),\n",
    "    nn.Flatten(),  # Flatten the output for the linear layers\n",
    "    nn.Linear(32 * 7 * 7, 512),  # Adjusted input size for the output of the CNN layers\n",
    "    nn.Tanh(),\n",
    "    nn.Linear(512, 256),\n",
    "    nn.Tanh(),\n",
    "    nn.Linear(256, 62),  # Adjusted for EMNIST classes\n",
    "    nn.LogSoftmax(dim=1)  # LogSoftmax for multi-class classification\n",
    ")"
   ]
  },
  {
   "cell_type": "code",
   "execution_count": 38,
   "metadata": {},
   "outputs": [
    {
     "name": "stdout",
     "output_type": "stream",
     "text": [
      "Using device cuda\n"
     ]
    }
   ],
   "source": [
    "num_epochs = 10\n",
    "lr = 1e-3\n",
    "\n",
    "device = 'cuda' if torch.cuda.is_available() else 'cpu'  # checks if machine supports cuda and if it does, we use that, otherwise cpu\n",
    "train_losses = []\n",
    "val_losses = []\n",
    "\n",
    "\n",
    "\n",
    "optimizer = optim.Adam(model.parameters(), lr=lr)\n",
    "criterion = nn.CrossEntropyLoss()  # multi-class\n",
    "\n",
    "model.to(device)  # we need to send all input tensors as well as our model to this device. by default they are on cpu\n",
    "\n",
    "print(f'Using device {device}')"
   ]
  },
  {
   "cell_type": "markdown",
   "metadata": {},
   "source": [
    "Pre-train performance"
   ]
  },
  {
   "cell_type": "markdown",
   "metadata": {},
   "source": [
    "The training loop"
   ]
  },
  {
   "cell_type": "code",
   "execution_count": 39,
   "metadata": {},
   "outputs": [
    {
     "name": "stdout",
     "output_type": "stream",
     "text": [
      "Epoch: 0, train_loss=0.6930719082405511, val_loss=0.49787206732587275. labelled 19282/23264 correctly (82.8834250343879% accuracy)\n",
      "Epoch: 1, train_loss=0.45686319100828254, val_loss=0.4800264253658966. labelled 19322/23264 correctly (83.05536451169189% accuracy)\n",
      "Epoch: 2, train_loss=0.4138899153578343, val_loss=0.4571619526966074. labelled 19513/23264 correctly (83.87637551581844% accuracy)\n",
      "Epoch: 3, train_loss=0.38693464711036685, val_loss=0.4640158535156814. labelled 19381/23264 correctly (83.30897524071527% accuracy)\n",
      "Epoch: 4, train_loss=0.36505645213856125, val_loss=0.45026408047754796. labelled 19523/23264 correctly (83.91936038514443% accuracy)\n",
      "Epoch: 5, train_loss=0.34728162190323186, val_loss=0.4535030254471581. labelled 19493/23264 correctly (83.79040577716643% accuracy)\n",
      "Epoch: 6, train_loss=0.3331165124435625, val_loss=0.4602856028112781. labelled 19513/23264 correctly (83.87637551581844% accuracy)\n",
      "Epoch: 7, train_loss=0.31780912762953034, val_loss=0.4703718734779581. labelled 19533/23264 correctly (83.96234525447042% accuracy)\n",
      "Epoch: 8, train_loss=0.3066527240297824, val_loss=0.46513051046711873. labelled 19554/23264 correctly (84.05261348005502% accuracy)\n",
      "Epoch: 9, train_loss=0.2973527341802199, val_loss=0.47809862578095563. labelled 19642/23264 correctly (84.4308803301238% accuracy)\n",
      "Training complete on device cuda. Change device variable and run again to see the difference.\n"
     ]
    }
   ],
   "source": [
    "for epoch_no in range(num_epochs):\n",
    "\n",
    "  model.train()  # convert to train model. This turns out train-specific layers in the model (if you dont know about them, an example of them is dropout. more on this later)\n",
    "\n",
    "  epoch_weighted_loss = 0\n",
    "\n",
    "  for batch_X, batch_y in train_loader:\n",
    "\n",
    "    batch_X = batch_X.to(device)  # convert to [N, 28*28] shape where N is batch_size\n",
    "    batch_y = batch_y.to(device)\n",
    "\n",
    "    batch_y_probs = model(batch_X)  # outputs [N, 10] where each [:, 10] is probabilities for class (0-9)\n",
    "\n",
    "    loss = criterion(batch_y_probs, batch_y)\n",
    "\n",
    "    optimizer.zero_grad()  # need to clear out gradients from previous batch\n",
    "    loss.backward()  # calculate new gradients\n",
    "    optimizer.step()  # update weights\n",
    "\n",
    "    epoch_weighted_loss += (len(batch_y)*loss.item())\n",
    "\n",
    "  epoch_loss = epoch_weighted_loss/len(train_loader.dataset)\n",
    "  train_losses.append(epoch_loss)    # add loss for tracking. we'll visualize the loss trajectory later\n",
    "\n",
    "\n",
    "  # validation time\n",
    "\n",
    "  model.eval()  # take model to evaluation mode. turn off train-only layers\n",
    "  correctly_labelled = 0\n",
    "\n",
    "  with torch.no_grad():  # this makes our model to NOT track gradients\n",
    "\n",
    "    val_epoch_weighted_loss = 0\n",
    "\n",
    "    for val_batch_X, val_batch_y in test_loader:\n",
    "\n",
    "      val_batch_X = val_batch_X.to(device)\n",
    "      val_batch_y = val_batch_y.to(device)\n",
    "\n",
    "      val_batch_y_probs = model(val_batch_X)\n",
    "\n",
    "      loss = criterion(val_batch_y_probs, val_batch_y)\n",
    "      val_epoch_weighted_loss += (len(val_batch_y)*loss.item())\n",
    "\n",
    "      val_batch_y_pred = val_batch_y_probs.argmax(dim=1)  # convert probailities to labels by picking the label (index) with the highest prob\n",
    "\n",
    "      correctly_labelled += (val_batch_y_pred == val_batch_y).sum().item()  # item converts tensor to float/int/list\n",
    "\n",
    "  val_epoch_loss = val_epoch_weighted_loss/len(test_loader.dataset)\n",
    "  val_losses.append(val_epoch_loss)\n",
    "\n",
    "  print(f'Epoch: {epoch_no}, train_loss={epoch_loss}, val_loss={val_epoch_loss}. labelled {correctly_labelled}/{len(test_loader.dataset)} correctly ({correctly_labelled/len(test_loader.dataset)*100}% accuracy)')\n",
    "\n",
    "print(f'Training complete on device {device}. Change device variable and run again to see the difference.')"
   ]
  },
  {
   "cell_type": "markdown",
   "metadata": {},
   "source": [
    "Visualization for the model loss over epochs"
   ]
  },
  {
   "cell_type": "code",
   "execution_count": 17,
   "metadata": {},
   "outputs": [
    {
     "data": {
      "image/png": "[encoded data removed]",
      "text/plain": [
       "<Figure size 640x480 with 1 Axes>"
      ]
     },
     "metadata": {},
     "output_type": "display_data"
    }
   ],
   "source": [
    "plt.plot(train_losses, label='train loss')\n",
    "plt.plot(val_losses, label='val loss')\n",
    "plt.xlabel('Epoch')\n",
    "plt.ylabel('Loss (Cross Entropy)')\n",
    "plt.legend()\n",
    "plt.show()"
   ]
  },
  {
   "cell_type": "markdown",
   "metadata": {},
   "source": [
    "Validation"
   ]
  },
  {
   "cell_type": "code",
   "execution_count": 18,
   "metadata": {},
   "outputs": [
    {
     "name": "stdout",
     "output_type": "stream",
     "text": [
      "val_loss=0.42326781481627423. labelled 19706/23264 correctly (84.70598349381018% accuracy)\n"
     ]
    }
   ],
   "source": [
    "model.eval()\n",
    "correctly_labelled = 0\n",
    "with torch.no_grad():\n",
    "\n",
    "  val_epoch_weighted_loss = 0\n",
    "\n",
    "  for val_batch_X, val_batch_y in test_loader:\n",
    "    val_batch_X = val_batch_X.to(device)\n",
    "    val_batch_y = val_batch_y.to(device)\n",
    "\n",
    "    val_batch_y_probs = model(val_batch_X)\n",
    "\n",
    "    loss = criterion(val_batch_y_probs, val_batch_y)\n",
    "    val_epoch_weighted_loss += (len(val_batch_y)*loss.item())\n",
    "\n",
    "    val_batch_y_pred = val_batch_y_probs.argmax(dim=1)  # convert probailities to labels by picking the label (index) with the highest prob   \n",
    "\n",
    "    correctly_labelled += (val_batch_y_pred == val_batch_y).sum().item()  # item converts tensor to float/int/list\n",
    "\n",
    "val_epoch_loss = val_epoch_weighted_loss/len(test_loader.dataset)\n",
    "val_losses.append(val_epoch_loss)\n",
    "\n",
    "print(f'val_loss={val_epoch_loss}. labelled {correctly_labelled}/{len(test_loader.dataset)} correctly ({correctly_labelled/len(test_loader.dataset)*100}% accuracy)')\n"
   ]
  },
  {
   "cell_type": "code",
   "execution_count": null,
   "metadata": {},
   "outputs": [],
   "source": []
  }
 ],
 "metadata": {
  "kernelspec": {
   "display_name": "Python 3",
   "language": "python",
   "name": "python3"
  },
  "language_info": {
   "codemirror_mode": {
    "name": "ipython",
    "version": 3
   },
   "file_extension": ".py",
   "mimetype": "text/x-python",
   "name": "python",
   "nbconvert_exporter": "python",
   "pygments_lexer": "ipython3",
   "version": "3.11.3"
  }
 },
 "nbformat": 4,
 "nbformat_minor": 2
}
