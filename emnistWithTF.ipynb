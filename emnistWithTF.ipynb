{
 "cells": [
  {
   "cell_type": "code",
   "execution_count": 1,
   "metadata": {},
   "outputs": [
    {
     "name": "stderr",
     "output_type": "stream",
     "text": [
      "2024-01-31 21:36:17.359678: I tensorflow/core/util/port.cc:113] oneDNN custom operations are on. You may see slightly different numerical results due to floating-point round-off errors from different computation orders. To turn them off, set the environment variable `TF_ENABLE_ONEDNN_OPTS=0`.\n",
      "2024-01-31 21:36:17.391299: E external/local_xla/xla/stream_executor/cuda/cuda_dnn.cc:9261] Unable to register cuDNN factory: Attempting to register factory for plugin cuDNN when one has already been registered\n",
      "2024-01-31 21:36:17.391328: E external/local_xla/xla/stream_executor/cuda/cuda_fft.cc:607] Unable to register cuFFT factory: Attempting to register factory for plugin cuFFT when one has already been registered\n",
      "2024-01-31 21:36:17.392050: E external/local_xla/xla/stream_executor/cuda/cuda_blas.cc:1515] Unable to register cuBLAS factory: Attempting to register factory for plugin cuBLAS when one has already been registered\n",
      "2024-01-31 21:36:17.398677: I tensorflow/core/platform/cpu_feature_guard.cc:182] This TensorFlow binary is optimized to use available CPU instructions in performance-critical operations.\n",
      "To enable the following instructions: AVX2 AVX512F AVX512_VNNI FMA, in other operations, rebuild TensorFlow with the appropriate compiler flags.\n",
      "2024-01-31 21:36:18.149099: W tensorflow/compiler/tf2tensorrt/utils/py_utils.cc:38] TF-TRT Warning: Could not find TensorRT\n"
     ]
    }
   ],
   "source": [
    "import tensorflow as tf\n",
    "# from tensorflow.keras import layers\n",
    "from tensorflow import keras\n",
    "from keras import layers\n",
    "from sklearn import  pipeline, preprocessing\n",
    "from torchvision.datasets import EMNIST\n",
    "\n",
    "from torch.utils.data import DataLoader"
   ]
  },
  {
   "cell_type": "code",
   "execution_count": 2,
   "metadata": {},
   "outputs": [
    {
     "name": "stdout",
     "output_type": "stream",
     "text": [
      "Num GPUs Available:  1\n"
     ]
    },
    {
     "name": "stderr",
     "output_type": "stream",
     "text": [
      "2024-01-31 21:36:20.655950: I external/local_xla/xla/stream_executor/cuda/cuda_executor.cc:901] successful NUMA node read from SysFS had negative value (-1), but there must be at least one NUMA node, so returning NUMA node zero. See more at https://github.com/torvalds/linux/blob/v6.0/Documentation/ABI/testing/sysfs-bus-pci#L344-L355\n",
      "2024-01-31 21:36:20.657075: I external/local_xla/xla/stream_executor/cuda/cuda_executor.cc:901] successful NUMA node read from SysFS had negative value (-1), but there must be at least one NUMA node, so returning NUMA node zero. See more at https://github.com/torvalds/linux/blob/v6.0/Documentation/ABI/testing/sysfs-bus-pci#L344-L355\n",
      "2024-01-31 21:36:20.657199: I external/local_xla/xla/stream_executor/cuda/cuda_executor.cc:901] successful NUMA node read from SysFS had negative value (-1), but there must be at least one NUMA node, so returning NUMA node zero. See more at https://github.com/torvalds/linux/blob/v6.0/Documentation/ABI/testing/sysfs-bus-pci#L344-L355\n"
     ]
    }
   ],
   "source": [
    "print(\"Num GPUs Available: \", len(tf.config.experimental.list_physical_devices('GPU')))"
   ]
  },
  {
   "cell_type": "code",
   "execution_count": 3,
   "metadata": {},
   "outputs": [],
   "source": [
    "\n",
    "\n",
    "# Load the datasets\n",
    "train_data = EMNIST(root='emnist_data/', split='byclass', train=True, download=True)\n",
    "test_data = EMNIST(root='emnist_data/', split='byclass', train=False, download=True)\n",
    "\n",
    "# train_data_loader = DataLoader(train_data, batch_size=64, shuffle=True)\n",
    "# test_data_loader = DataLoader(test_data, batch_size=64, shuffle=True)\n",
    "\n",
    "# train_images = tf.data.Dataset.from_generator(lambda: train_data_loader, output_signature=tf.TensorSpec(shape=(None, 28, 28), dtype=tf.float32))\n",
    "# test_images = tf.data.Dataset.from_generator(lambda: test_data_loader, output_signature=tf.TensorSpec(shape=(None, 28, 28), dtype=tf.float32))\n",
    "#unpack the data into images and labels\n",
    "train_images, train_labels = train_data.data, train_data.targets\n",
    "test_images, test_labels = test_data.data, test_data.targets\n",
    "\n",
    "#convert the data to numpy arrays\n",
    "train_images = train_images.numpy()\n",
    "train_labels = train_labels.numpy()\n",
    "test_images = test_images.numpy()\n",
    "test_labels = test_labels.numpy()\n"
   ]
  },
  {
   "cell_type": "code",
   "execution_count": 4,
   "metadata": {},
   "outputs": [
    {
     "name": "stdout",
     "output_type": "stream",
     "text": [
      "697932\n",
      "116323\n"
     ]
    }
   ],
   "source": [
    "print(len(train_data))\n",
    "print(len(test_data))"
   ]
  },
  {
   "cell_type": "code",
   "execution_count": 5,
   "metadata": {},
   "outputs": [
    {
     "name": "stderr",
     "output_type": "stream",
     "text": [
      "2024-01-31 21:36:21.301487: I external/local_xla/xla/stream_executor/cuda/cuda_executor.cc:901] successful NUMA node read from SysFS had negative value (-1), but there must be at least one NUMA node, so returning NUMA node zero. See more at https://github.com/torvalds/linux/blob/v6.0/Documentation/ABI/testing/sysfs-bus-pci#L344-L355\n",
      "2024-01-31 21:36:21.301701: I external/local_xla/xla/stream_executor/cuda/cuda_executor.cc:901] successful NUMA node read from SysFS had negative value (-1), but there must be at least one NUMA node, so returning NUMA node zero. See more at https://github.com/torvalds/linux/blob/v6.0/Documentation/ABI/testing/sysfs-bus-pci#L344-L355\n",
      "2024-01-31 21:36:21.301778: I external/local_xla/xla/stream_executor/cuda/cuda_executor.cc:901] successful NUMA node read from SysFS had negative value (-1), but there must be at least one NUMA node, so returning NUMA node zero. See more at https://github.com/torvalds/linux/blob/v6.0/Documentation/ABI/testing/sysfs-bus-pci#L344-L355\n",
      "2024-01-31 21:36:21.360193: I external/local_xla/xla/stream_executor/cuda/cuda_executor.cc:901] successful NUMA node read from SysFS had negative value (-1), but there must be at least one NUMA node, so returning NUMA node zero. See more at https://github.com/torvalds/linux/blob/v6.0/Documentation/ABI/testing/sysfs-bus-pci#L344-L355\n",
      "2024-01-31 21:36:21.360317: I external/local_xla/xla/stream_executor/cuda/cuda_executor.cc:901] successful NUMA node read from SysFS had negative value (-1), but there must be at least one NUMA node, so returning NUMA node zero. See more at https://github.com/torvalds/linux/blob/v6.0/Documentation/ABI/testing/sysfs-bus-pci#L344-L355\n",
      "2024-01-31 21:36:21.360404: I external/local_xla/xla/stream_executor/cuda/cuda_executor.cc:901] successful NUMA node read from SysFS had negative value (-1), but there must be at least one NUMA node, so returning NUMA node zero. See more at https://github.com/torvalds/linux/blob/v6.0/Documentation/ABI/testing/sysfs-bus-pci#L344-L355\n",
      "2024-01-31 21:36:21.360481: I tensorflow/core/common_runtime/gpu/gpu_device.cc:1929] Created device /job:localhost/replica:0/task:0/device:GPU:0 with 2272 MB memory:  -> device: 0, name: NVIDIA GeForce RTX 3050 Ti Laptop GPU, pci bus id: 0000:01:00.0, compute capability: 8.6\n"
     ]
    }
   ],
   "source": [
    "data_preprocessing_pipeline = pipeline.make_pipeline(\n",
    "    preprocessing.FunctionTransformer(lambda X: tf.convert_to_tensor(X))\n",
    ")\n",
    "\n",
    "train_images = data_preprocessing_pipeline.fit_transform(train_images)\n",
    "train_labels = data_preprocessing_pipeline.fit_transform(train_labels)\n",
    "\n",
    "test_images = data_preprocessing_pipeline.fit_transform(test_images)\n",
    "test_labels = data_preprocessing_pipeline.fit_transform(test_labels)"
   ]
  },
  {
   "cell_type": "code",
   "execution_count": 6,
   "metadata": {},
   "outputs": [],
   "source": [
    "training_dataset = tf.data.Dataset.from_tensor_slices((train_images, train_labels))\n",
    "testing_dataset = tf.data.Dataset.from_tensor_slices((test_images, test_labels))"
   ]
  },
  {
   "cell_type": "code",
   "execution_count": 7,
   "metadata": {},
   "outputs": [],
   "source": [
    "model = tf.keras.Sequential([\n",
    "    layers.Conv2D(32, (5,5), activation='tanh', padding = 'same', input_shape=(28, 28, 1)),\n",
    "    layers.MaxPooling2D((2, 2)),\n",
    "    layers.Conv2D(48, (5,5), activation='tanh', padding = 'same'),\n",
    "    layers.MaxPooling2D((2, 2)),\n",
    "    layers.Conv2D(64, (5,5), activation='tanh', padding = 'same'),\n",
    "    layers.Flatten(),\n",
    "    layers.Dense(256, activation='tanh'),\n",
    "    layers.Dense(128, activation='tanh'),\n",
    "    layers.Dense(62, activation='softmax')\n",
    "])"
   ]
  },
  {
   "cell_type": "code",
   "execution_count": 8,
   "metadata": {},
   "outputs": [],
   "source": [
    "\n",
    "model.compile(optimizer='adam',\n",
    "                loss='sparse_categorical_crossentropy',\n",
    "                metrics=['accuracy'])"
   ]
  },
  {
   "cell_type": "code",
   "execution_count": 9,
   "metadata": {},
   "outputs": [
    {
     "name": "stdout",
     "output_type": "stream",
     "text": [
      "Epoch 1/10\n"
     ]
    },
    {
     "name": "stderr",
     "output_type": "stream",
     "text": [
      "2024-01-31 21:36:22.898388: I external/local_xla/xla/stream_executor/cuda/cuda_dnn.cc:454] Loaded cuDNN version 8902\n",
      "2024-01-31 21:36:23.622693: I external/local_xla/xla/service/service.cc:168] XLA service 0x7feb5c0288d0 initialized for platform CUDA (this does not guarantee that XLA will be used). Devices:\n",
      "2024-01-31 21:36:23.622720: I external/local_xla/xla/service/service.cc:176]   StreamExecutor device (0): NVIDIA GeForce RTX 3050 Ti Laptop GPU, Compute Capability 8.6\n",
      "2024-01-31 21:36:23.627777: I tensorflow/compiler/mlir/tensorflow/utils/dump_mlir_util.cc:269] disabling MLIR crash reproducer, set env var `MLIR_CRASH_REPRODUCER_DIRECTORY` to enable.\n",
      "WARNING: All log messages before absl::InitializeLog() is called are written to STDERR\n",
      "I0000 00:00:1706726183.694721   10082 device_compiler.h:186] Compiled cluster using XLA!  This line is logged at most once for the lifetime of the process.\n"
     ]
    },
    {
     "name": "stdout",
     "output_type": "stream",
     "text": [
      "2727/2727 [==============================] - 36s 12ms/step - loss: 0.5005 - accuracy: 0.8314 - val_loss: 0.4308 - val_accuracy: 0.8451\n",
      "Epoch 2/10\n",
      "2727/2727 [==============================] - 31s 11ms/step - loss: 0.4208 - accuracy: 0.8493 - val_loss: 0.4208 - val_accuracy: 0.8492\n",
      "Epoch 3/10\n",
      "2727/2727 [==============================] - 31s 11ms/step - loss: 0.4121 - accuracy: 0.8514 - val_loss: 0.4126 - val_accuracy: 0.8519\n",
      "Epoch 4/10\n",
      "2727/2727 [==============================] - 31s 11ms/step - loss: 0.4029 - accuracy: 0.8540 - val_loss: 0.4045 - val_accuracy: 0.8538\n",
      "Epoch 5/10\n",
      "2727/2727 [==============================] - 31s 11ms/step - loss: 0.4025 - accuracy: 0.8541 - val_loss: 0.4099 - val_accuracy: 0.8524\n",
      "Epoch 6/10\n",
      "2727/2727 [==============================] - 31s 11ms/step - loss: 0.3975 - accuracy: 0.8559 - val_loss: 0.4048 - val_accuracy: 0.8533\n",
      "Epoch 7/10\n",
      "2727/2727 [==============================] - 31s 11ms/step - loss: 0.3933 - accuracy: 0.8566 - val_loss: 0.4043 - val_accuracy: 0.8532\n",
      "Epoch 8/10\n",
      "2727/2727 [==============================] - 31s 11ms/step - loss: 0.3939 - accuracy: 0.8559 - val_loss: 0.4025 - val_accuracy: 0.8536\n",
      "Epoch 9/10\n",
      "2727/2727 [==============================] - 31s 11ms/step - loss: 0.3929 - accuracy: 0.8563 - val_loss: 0.4052 - val_accuracy: 0.8540\n",
      "Epoch 10/10\n",
      "2727/2727 [==============================] - 31s 11ms/step - loss: 0.3937 - accuracy: 0.8558 - val_loss: 0.3987 - val_accuracy: 0.8552\n"
     ]
    },
    {
     "data": {
      "text/plain": [
       "<keras.src.callbacks.History at 0x7fec64283970>"
      ]
     },
     "execution_count": 9,
     "metadata": {},
     "output_type": "execute_result"
    }
   ],
   "source": [
    "# the training loop\n",
    "epochs = 10\n",
    "batch_size = 256\n",
    "\n",
    "model.fit(training_dataset.shuffle(10000).batch(batch_size), epochs=epochs, batch_size=batch_size, validation_data=testing_dataset.batch(batch_size))"
   ]
  },
  {
   "cell_type": "code",
   "execution_count": 10,
   "metadata": {},
   "outputs": [
    {
     "name": "stdout",
     "output_type": "stream",
     "text": [
      "116323/116323 [==============================] - 166s 1ms/step - loss: 0.3987 - accuracy: 0.8552\n"
     ]
    },
    {
     "data": {
      "text/plain": [
       "[0.39869552850723267, 0.8552048802375793]"
      ]
     },
     "execution_count": 10,
     "metadata": {},
     "output_type": "execute_result"
    }
   ],
   "source": [
    "#evaluating the model with unseen data\n",
    "model.evaluate(testing_dataset.batch(1))\n"
   ]
  },
  {
   "cell_type": "code",
   "execution_count": null,
   "metadata": {},
   "outputs": [],
   "source": []
  }
 ],
 "metadata": {
  "kernelspec": {
   "display_name": "Python 3",
   "language": "python",
   "name": "python3"
  },
  "language_info": {
   "codemirror_mode": {
    "name": "ipython",
    "version": 3
   },
   "file_extension": ".py",
   "mimetype": "text/x-python",
   "name": "python",
   "nbconvert_exporter": "python",
   "pygments_lexer": "ipython3",
   "version": "3.10.12"
  }
 },
 "nbformat": 4,
 "nbformat_minor": 2
}
