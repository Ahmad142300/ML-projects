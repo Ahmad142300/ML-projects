{
 "cells": [
  {
   "cell_type": "code",
   "execution_count": 1,
   "metadata": {},
   "outputs": [
    {
     "name": "stderr",
     "output_type": "stream",
     "text": [
      "2024-01-28 18:15:49.280474: I tensorflow/core/util/port.cc:113] oneDNN custom operations are on. You may see slightly different numerical results due to floating-point round-off errors from different computation orders. To turn them off, set the environment variable `TF_ENABLE_ONEDNN_OPTS=0`.\n",
      "2024-01-28 18:15:49.308768: E external/local_xla/xla/stream_executor/cuda/cuda_dnn.cc:9261] Unable to register cuDNN factory: Attempting to register factory for plugin cuDNN when one has already been registered\n",
      "2024-01-28 18:15:49.308796: E external/local_xla/xla/stream_executor/cuda/cuda_fft.cc:607] Unable to register cuFFT factory: Attempting to register factory for plugin cuFFT when one has already been registered\n",
      "2024-01-28 18:15:49.309473: E external/local_xla/xla/stream_executor/cuda/cuda_blas.cc:1515] Unable to register cuBLAS factory: Attempting to register factory for plugin cuBLAS when one has already been registered\n",
      "2024-01-28 18:15:49.314562: I tensorflow/core/platform/cpu_feature_guard.cc:182] This TensorFlow binary is optimized to use available CPU instructions in performance-critical operations.\n",
      "To enable the following instructions: AVX2 AVX512F AVX512_VNNI FMA, in other operations, rebuild TensorFlow with the appropriate compiler flags.\n",
      "2024-01-28 18:15:49.974055: W tensorflow/compiler/tf2tensorrt/utils/py_utils.cc:38] TF-TRT Warning: Could not find TensorRT\n"
     ]
    }
   ],
   "source": [
    "import tensorflow as tf\n",
    "from tensorflow.keras import layers\n",
    "from sklearn import  pipeline, preprocessing\n",
    "from torchvision.datasets import EMNIST"
   ]
  },
  {
   "cell_type": "code",
   "execution_count": 2,
   "metadata": {},
   "outputs": [
    {
     "name": "stdout",
     "output_type": "stream",
     "text": [
      "Num GPUs Available:  1\n"
     ]
    },
    {
     "name": "stderr",
     "output_type": "stream",
     "text": [
      "2024-01-28 18:15:53.323269: I external/local_xla/xla/stream_executor/cuda/cuda_executor.cc:901] successful NUMA node read from SysFS had negative value (-1), but there must be at least one NUMA node, so returning NUMA node zero. See more at https://github.com/torvalds/linux/blob/v6.0/Documentation/ABI/testing/sysfs-bus-pci#L344-L355\n",
      "2024-01-28 18:15:53.324254: I external/local_xla/xla/stream_executor/cuda/cuda_executor.cc:901] successful NUMA node read from SysFS had negative value (-1), but there must be at least one NUMA node, so returning NUMA node zero. See more at https://github.com/torvalds/linux/blob/v6.0/Documentation/ABI/testing/sysfs-bus-pci#L344-L355\n",
      "2024-01-28 18:15:53.324370: I external/local_xla/xla/stream_executor/cuda/cuda_executor.cc:901] successful NUMA node read from SysFS had negative value (-1), but there must be at least one NUMA node, so returning NUMA node zero. See more at https://github.com/torvalds/linux/blob/v6.0/Documentation/ABI/testing/sysfs-bus-pci#L344-L355\n"
     ]
    }
   ],
   "source": [
    "print(\"Num GPUs Available: \", len(tf.config.experimental.list_physical_devices('GPU')))"
   ]
  },
  {
   "cell_type": "code",
   "execution_count": 3,
   "metadata": {},
   "outputs": [],
   "source": [
    "\n",
    "\n",
    "# Load the datasets\n",
    "train_data = EMNIST(root='emnist_data/', split='byclass', train=True, download=True)\n",
    "test_data = EMNIST(root='emnist_data/', split='byclass', train=False, download=True)\n",
    "#unpack the data into images and labels\n",
    "train_images, train_labels = train_data.data, train_data.targets\n",
    "test_images, test_labels = test_data.data, test_data.targets\n",
    "\n",
    "#convert the data to numpy arrays\n",
    "train_images = train_images.numpy()\n",
    "train_labels = train_labels.numpy()\n",
    "test_images = test_images.numpy()\n",
    "test_labels = test_labels.numpy()\n"
   ]
  },
  {
   "cell_type": "code",
   "execution_count": 4,
   "metadata": {},
   "outputs": [
    {
     "data": {
      "text/plain": [
       "numpy.ndarray"
      ]
     },
     "execution_count": 4,
     "metadata": {},
     "output_type": "execute_result"
    }
   ],
   "source": [
    "type(train_images)"
   ]
  },
  {
   "cell_type": "code",
   "execution_count": 5,
   "metadata": {},
   "outputs": [
    {
     "name": "stderr",
     "output_type": "stream",
     "text": [
      "2024-01-28 18:15:54.001216: I external/local_xla/xla/stream_executor/cuda/cuda_executor.cc:901] successful NUMA node read from SysFS had negative value (-1), but there must be at least one NUMA node, so returning NUMA node zero. See more at https://github.com/torvalds/linux/blob/v6.0/Documentation/ABI/testing/sysfs-bus-pci#L344-L355\n",
      "2024-01-28 18:15:54.001440: I external/local_xla/xla/stream_executor/cuda/cuda_executor.cc:901] successful NUMA node read from SysFS had negative value (-1), but there must be at least one NUMA node, so returning NUMA node zero. See more at https://github.com/torvalds/linux/blob/v6.0/Documentation/ABI/testing/sysfs-bus-pci#L344-L355\n",
      "2024-01-28 18:15:54.001516: I external/local_xla/xla/stream_executor/cuda/cuda_executor.cc:901] successful NUMA node read from SysFS had negative value (-1), but there must be at least one NUMA node, so returning NUMA node zero. See more at https://github.com/torvalds/linux/blob/v6.0/Documentation/ABI/testing/sysfs-bus-pci#L344-L355\n",
      "2024-01-28 18:15:54.051666: I external/local_xla/xla/stream_executor/cuda/cuda_executor.cc:901] successful NUMA node read from SysFS had negative value (-1), but there must be at least one NUMA node, so returning NUMA node zero. See more at https://github.com/torvalds/linux/blob/v6.0/Documentation/ABI/testing/sysfs-bus-pci#L344-L355\n",
      "2024-01-28 18:15:54.051816: I external/local_xla/xla/stream_executor/cuda/cuda_executor.cc:901] successful NUMA node read from SysFS had negative value (-1), but there must be at least one NUMA node, so returning NUMA node zero. See more at https://github.com/torvalds/linux/blob/v6.0/Documentation/ABI/testing/sysfs-bus-pci#L344-L355\n",
      "2024-01-28 18:15:54.051906: I external/local_xla/xla/stream_executor/cuda/cuda_executor.cc:901] successful NUMA node read from SysFS had negative value (-1), but there must be at least one NUMA node, so returning NUMA node zero. See more at https://github.com/torvalds/linux/blob/v6.0/Documentation/ABI/testing/sysfs-bus-pci#L344-L355\n",
      "2024-01-28 18:15:54.051976: I tensorflow/core/common_runtime/gpu/gpu_device.cc:1929] Created device /job:localhost/replica:0/task:0/device:GPU:0 with 2272 MB memory:  -> device: 0, name: NVIDIA GeForce RTX 3050 Ti Laptop GPU, pci bus id: 0000:01:00.0, compute capability: 8.6\n"
     ]
    }
   ],
   "source": [
    "features_preprocessing_pileline = pipeline.make_pipeline(\n",
    "    preprocessing.FunctionTransformer(lambda x: tf.convert_to_tensor(x, dtype=tf.float32))\n",
    ")\n",
    "\n",
    "train_images = features_preprocessing_pileline.fit_transform(train_images)\n",
    "\n",
    "train_labels = tf.convert_to_tensor(train_labels, dtype=tf.int64)\n"
   ]
  },
  {
   "cell_type": "code",
   "execution_count": 6,
   "metadata": {},
   "outputs": [
    {
     "data": {
      "text/plain": [
       "TensorShape([697932, 28, 28])"
      ]
     },
     "execution_count": 6,
     "metadata": {},
     "output_type": "execute_result"
    }
   ],
   "source": [
    "train_images.shape"
   ]
  },
  {
   "cell_type": "code",
   "execution_count": 7,
   "metadata": {},
   "outputs": [],
   "source": [
    "\n",
    "model = tf.keras.Sequential([\n",
    "    layers.Flatten(input_shape=(28, 28)),\n",
    "    layers.Dense(1024, activation=\"tanh\"),\n",
    "    layers.Dense(1024//2, activation=\"tanh\"),\n",
    "    layers.Dense(1024//4, activation=\"tanh\"),\n",
    "    layers.Dense(62, activation=\"softmax\")\n",
    "])"
   ]
  },
  {
   "cell_type": "code",
   "execution_count": 8,
   "metadata": {},
   "outputs": [],
   "source": [
    "\n",
    "model.compile(optimizer='adam',\n",
    "                loss='sparse_categorical_crossentropy',\n",
    "                metrics=['accuracy'])"
   ]
  },
  {
   "cell_type": "code",
   "execution_count": 9,
   "metadata": {},
   "outputs": [
    {
     "name": "stdout",
     "output_type": "stream",
     "text": [
      "Epoch 1/10\n"
     ]
    },
    {
     "name": "stderr",
     "output_type": "stream",
     "text": [
      "2024-01-28 18:15:56.797381: I external/local_xla/xla/service/service.cc:168] XLA service 0x565008dd5c90 initialized for platform CUDA (this does not guarantee that XLA will be used). Devices:\n",
      "2024-01-28 18:15:56.797414: I external/local_xla/xla/service/service.cc:176]   StreamExecutor device (0): NVIDIA GeForce RTX 3050 Ti Laptop GPU, Compute Capability 8.6\n",
      "2024-01-28 18:15:56.814473: I tensorflow/compiler/mlir/tensorflow/utils/dump_mlir_util.cc:269] disabling MLIR crash reproducer, set env var `MLIR_CRASH_REPRODUCER_DIRECTORY` to enable.\n",
      "2024-01-28 18:15:56.851635: I external/local_xla/xla/stream_executor/cuda/cuda_dnn.cc:454] Loaded cuDNN version 8902\n",
      "WARNING: All log messages before absl::InitializeLog() is called are written to STDERR\n",
      "I0000 00:00:1706454956.970910    7310 device_compiler.h:186] Compiled cluster using XLA!  This line is logged at most once for the lifetime of the process.\n"
     ]
    },
    {
     "name": "stdout",
     "output_type": "stream",
     "text": [
      "5453/5453 [==============================] - 13s 2ms/step - loss: 0.9817 - accuracy: 0.7000\n",
      "Epoch 2/10\n",
      "5453/5453 [==============================] - 11s 2ms/step - loss: 0.8224 - accuracy: 0.7380\n",
      "Epoch 3/10\n",
      "5453/5453 [==============================] - 11s 2ms/step - loss: 0.8000 - accuracy: 0.7434\n",
      "Epoch 4/10\n",
      "5453/5453 [==============================] - 11s 2ms/step - loss: 0.7911 - accuracy: 0.7464\n",
      "Epoch 5/10\n",
      "5453/5453 [==============================] - 11s 2ms/step - loss: 0.7837 - accuracy: 0.7482\n",
      "Epoch 6/10\n",
      "5453/5453 [==============================] - 12s 2ms/step - loss: 0.7799 - accuracy: 0.7482\n",
      "Epoch 7/10\n",
      "5453/5453 [==============================] - 13s 2ms/step - loss: 0.7781 - accuracy: 0.7498\n",
      "Epoch 8/10\n",
      "5453/5453 [==============================] - 11s 2ms/step - loss: 0.7792 - accuracy: 0.7494\n",
      "Epoch 9/10\n",
      "5453/5453 [==============================] - 11s 2ms/step - loss: 0.7690 - accuracy: 0.7518\n",
      "Epoch 10/10\n",
      "5453/5453 [==============================] - 11s 2ms/step - loss: 0.7725 - accuracy: 0.7516\n"
     ]
    },
    {
     "data": {
      "text/plain": [
       "<keras.src.callbacks.History at 0x7fdc640d7520>"
      ]
     },
     "execution_count": 9,
     "metadata": {},
     "output_type": "execute_result"
    }
   ],
   "source": [
    "\n",
    "model.fit(train_images, train_labels, epochs=10, batch_size=64*2)"
   ]
  },
  {
   "cell_type": "code",
   "execution_count": 10,
   "metadata": {},
   "outputs": [
    {
     "name": "stderr",
     "output_type": "stream",
     "text": [
      "2024-01-28 18:18:00.388577: W external/local_tsl/tsl/framework/bfc_allocator.cc:485] Allocator (GPU_0_bfc) ran out of memory trying to allocate 347.89MiB (rounded to 364788992)requested by op _EagerConst\n",
      "If the cause is memory fragmentation maybe the environment variable 'TF_GPU_ALLOCATOR=cuda_malloc_async' will improve the situation. \n",
      "Current allocation summary follows.\n",
      "Current allocation summary follows.\n",
      "2024-01-28 18:18:00.388601: I external/local_tsl/tsl/framework/bfc_allocator.cc:1039] BFCAllocator dump for GPU_0_bfc\n",
      "2024-01-28 18:18:00.388608: I external/local_tsl/tsl/framework/bfc_allocator.cc:1046] Bin (256): \tTotal Chunks: 31, Chunks in use: 29. 7.8KiB allocated for chunks. 7.2KiB in use in bin. 880B client-requested in use in bin.\n",
      "2024-01-28 18:18:00.388612: I external/local_tsl/tsl/framework/bfc_allocator.cc:1046] Bin (512): \tTotal Chunks: 0, Chunks in use: 0. 0B allocated for chunks. 0B in use in bin. 0B client-requested in use in bin.\n",
      "2024-01-28 18:18:00.388615: I external/local_tsl/tsl/framework/bfc_allocator.cc:1046] Bin (1024): \tTotal Chunks: 4, Chunks in use: 4. 4.2KiB allocated for chunks. 4.2KiB in use in bin. 4.0KiB client-requested in use in bin.\n",
      "2024-01-28 18:18:00.388617: I external/local_tsl/tsl/framework/bfc_allocator.cc:1046] Bin (2048): \tTotal Chunks: 3, Chunks in use: 3. 6.0KiB allocated for chunks. 6.0KiB in use in bin. 6.0KiB client-requested in use in bin.\n",
      "2024-01-28 18:18:00.388620: I external/local_tsl/tsl/framework/bfc_allocator.cc:1046] Bin (4096): \tTotal Chunks: 3, Chunks in use: 3. 12.0KiB allocated for chunks. 12.0KiB in use in bin. 12.0KiB client-requested in use in bin.\n",
      "2024-01-28 18:18:00.388623: I external/local_tsl/tsl/framework/bfc_allocator.cc:1046] Bin (8192): \tTotal Chunks: 0, Chunks in use: 0. 0B allocated for chunks. 0B in use in bin. 0B client-requested in use in bin.\n",
      "2024-01-28 18:18:00.388625: I external/local_tsl/tsl/framework/bfc_allocator.cc:1046] Bin (16384): \tTotal Chunks: 0, Chunks in use: 0. 0B allocated for chunks. 0B in use in bin. 0B client-requested in use in bin.\n",
      "2024-01-28 18:18:00.388628: I external/local_tsl/tsl/framework/bfc_allocator.cc:1046] Bin (32768): \tTotal Chunks: 2, Chunks in use: 2. 124.0KiB allocated for chunks. 124.0KiB in use in bin. 124.0KiB client-requested in use in bin.\n",
      "2024-01-28 18:18:00.388631: I external/local_tsl/tsl/framework/bfc_allocator.cc:1046] Bin (65536): \tTotal Chunks: 1, Chunks in use: 1. 108.8KiB allocated for chunks. 108.8KiB in use in bin. 62.0KiB client-requested in use in bin.\n",
      "2024-01-28 18:18:00.388633: I external/local_tsl/tsl/framework/bfc_allocator.cc:1046] Bin (131072): \tTotal Chunks: 0, Chunks in use: 0. 0B allocated for chunks. 0B in use in bin. 0B client-requested in use in bin.\n",
      "2024-01-28 18:18:00.388636: I external/local_tsl/tsl/framework/bfc_allocator.cc:1046] Bin (262144): \tTotal Chunks: 1, Chunks in use: 0. 391.0KiB allocated for chunks. 0B in use in bin. 0B client-requested in use in bin.\n",
      "2024-01-28 18:18:00.388639: I external/local_tsl/tsl/framework/bfc_allocator.cc:1046] Bin (524288): \tTotal Chunks: 3, Chunks in use: 3. 1.82MiB allocated for chunks. 1.82MiB in use in bin. 1.50MiB client-requested in use in bin.\n",
      "2024-01-28 18:18:00.388641: I external/local_tsl/tsl/framework/bfc_allocator.cc:1046] Bin (1048576): \tTotal Chunks: 0, Chunks in use: 0. 0B allocated for chunks. 0B in use in bin. 0B client-requested in use in bin.\n",
      "2024-01-28 18:18:00.388644: I external/local_tsl/tsl/framework/bfc_allocator.cc:1046] Bin (2097152): \tTotal Chunks: 6, Chunks in use: 6. 15.80MiB allocated for chunks. 15.80MiB in use in bin. 15.19MiB client-requested in use in bin.\n",
      "2024-01-28 18:18:00.388646: I external/local_tsl/tsl/framework/bfc_allocator.cc:1046] Bin (4194304): \tTotal Chunks: 1, Chunks in use: 1. 5.32MiB allocated for chunks. 5.32MiB in use in bin. 5.32MiB client-requested in use in bin.\n",
      "2024-01-28 18:18:00.388649: I external/local_tsl/tsl/framework/bfc_allocator.cc:1046] Bin (8388608): \tTotal Chunks: 0, Chunks in use: 0. 0B allocated for chunks. 0B in use in bin. 0B client-requested in use in bin.\n",
      "2024-01-28 18:18:00.388651: I external/local_tsl/tsl/framework/bfc_allocator.cc:1046] Bin (16777216): \tTotal Chunks: 0, Chunks in use: 0. 0B allocated for chunks. 0B in use in bin. 0B client-requested in use in bin.\n",
      "2024-01-28 18:18:00.388655: I external/local_tsl/tsl/framework/bfc_allocator.cc:1046] Bin (33554432): \tTotal Chunks: 0, Chunks in use: 0. 0B allocated for chunks. 0B in use in bin. 0B client-requested in use in bin.\n",
      "2024-01-28 18:18:00.388657: I external/local_tsl/tsl/framework/bfc_allocator.cc:1046] Bin (67108864): \tTotal Chunks: 0, Chunks in use: 0. 0B allocated for chunks. 0B in use in bin. 0B client-requested in use in bin.\n",
      "2024-01-28 18:18:00.388660: I external/local_tsl/tsl/framework/bfc_allocator.cc:1046] Bin (134217728): \tTotal Chunks: 1, Chunks in use: 0. 161.41MiB allocated for chunks. 0B in use in bin. 0B client-requested in use in bin.\n",
      "2024-01-28 18:18:00.388662: I external/local_tsl/tsl/framework/bfc_allocator.cc:1046] Bin (268435456): \tTotal Chunks: 1, Chunks in use: 1. 2.04GiB allocated for chunks. 2.04GiB in use in bin. 2.04GiB client-requested in use in bin.\n",
      "2024-01-28 18:18:00.388665: I external/local_tsl/tsl/framework/bfc_allocator.cc:1062] Bin for 347.89MiB was 256.00MiB, Chunk State: \n",
      "2024-01-28 18:18:00.388669: I external/local_tsl/tsl/framework/bfc_allocator.cc:1075] Next region of size 2382692352\n",
      "2024-01-28 18:18:00.388673: I external/local_tsl/tsl/framework/bfc_allocator.cc:1095] InUse at 7fd934000000 of size 2188714752 next 1\n",
      "2024-01-28 18:18:00.388675: I external/local_tsl/tsl/framework/bfc_allocator.cc:1095] InUse at 7fd9b6752300 of size 1280 next 2\n",
      "2024-01-28 18:18:00.388678: I external/local_tsl/tsl/framework/bfc_allocator.cc:1095] InUse at 7fd9b6752800 of size 5583616 next 3\n",
      "2024-01-28 18:18:00.388680: I external/local_tsl/tsl/framework/bfc_allocator.cc:1095] InUse at 7fd9b6ca5b00 of size 256 next 4\n",
      "2024-01-28 18:18:00.388682: I external/local_tsl/tsl/framework/bfc_allocator.cc:1095] InUse at 7fd9b6ca5c00 of size 256 next 5\n",
      "2024-01-28 18:18:00.388684: I external/local_tsl/tsl/framework/bfc_allocator.cc:1095] InUse at 7fd9b6ca5d00 of size 256 next 6\n",
      "2024-01-28 18:18:00.388685: I external/local_tsl/tsl/framework/bfc_allocator.cc:1095] InUse at 7fd9b6ca5e00 of size 256 next 8\n",
      "2024-01-28 18:18:00.388687: I external/local_tsl/tsl/framework/bfc_allocator.cc:1095] InUse at 7fd9b6ca5f00 of size 4096 next 9\n",
      "2024-01-28 18:18:00.388689: I external/local_tsl/tsl/framework/bfc_allocator.cc:1095] InUse at 7fd9b6ca6f00 of size 256 next 7\n",
      "2024-01-28 18:18:00.388691: I external/local_tsl/tsl/framework/bfc_allocator.cc:1095] InUse at 7fd9b6ca7000 of size 256 next 10\n",
      "2024-01-28 18:18:00.388693: I external/local_tsl/tsl/framework/bfc_allocator.cc:1095] InUse at 7fd9b6ca7100 of size 2048 next 14\n",
      "2024-01-28 18:18:00.388695: I external/local_tsl/tsl/framework/bfc_allocator.cc:1095] InUse at 7fd9b6ca7900 of size 256 next 15\n",
      "2024-01-28 18:18:00.388696: I external/local_tsl/tsl/framework/bfc_allocator.cc:1095] InUse at 7fd9b6ca7a00 of size 256 next 13\n",
      "2024-01-28 18:18:00.388698: I external/local_tsl/tsl/framework/bfc_allocator.cc:1095] InUse at 7fd9b6ca7b00 of size 1024 next 18\n",
      "2024-01-28 18:18:00.388700: I external/local_tsl/tsl/framework/bfc_allocator.cc:1095] InUse at 7fd9b6ca7f00 of size 256 next 19\n",
      "2024-01-28 18:18:00.388701: I external/local_tsl/tsl/framework/bfc_allocator.cc:1095] InUse at 7fd9b6ca8000 of size 256 next 16\n",
      "2024-01-28 18:18:00.388703: I external/local_tsl/tsl/framework/bfc_allocator.cc:1095] InUse at 7fd9b6ca8100 of size 256 next 23\n",
      "2024-01-28 18:18:00.388705: I external/local_tsl/tsl/framework/bfc_allocator.cc:1095] InUse at 7fd9b6ca8200 of size 256 next 24\n",
      "2024-01-28 18:18:00.388707: I external/local_tsl/tsl/framework/bfc_allocator.cc:1095] InUse at 7fd9b6ca8300 of size 256 next 20\n",
      "2024-01-28 18:18:00.388708: I external/local_tsl/tsl/framework/bfc_allocator.cc:1095] InUse at 7fd9b6ca8400 of size 256 next 25\n",
      "2024-01-28 18:18:00.388710: I external/local_tsl/tsl/framework/bfc_allocator.cc:1095] InUse at 7fd9b6ca8500 of size 256 next 28\n",
      "2024-01-28 18:18:00.388712: I external/local_tsl/tsl/framework/bfc_allocator.cc:1095] InUse at 7fd9b6ca8600 of size 256 next 29\n",
      "2024-01-28 18:18:00.388714: I external/local_tsl/tsl/framework/bfc_allocator.cc:1095] InUse at 7fd9b6ca8700 of size 256 next 30\n",
      "2024-01-28 18:18:00.388717: I external/local_tsl/tsl/framework/bfc_allocator.cc:1095] InUse at 7fd9b6ca8800 of size 256 next 31\n",
      "2024-01-28 18:18:00.388719: I external/local_tsl/tsl/framework/bfc_allocator.cc:1095] InUse at 7fd9b6ca8900 of size 4096 next 34\n",
      "2024-01-28 18:18:00.388720: I external/local_tsl/tsl/framework/bfc_allocator.cc:1095] InUse at 7fd9b6ca9900 of size 4096 next 35\n",
      "2024-01-28 18:18:00.388722: I external/local_tsl/tsl/framework/bfc_allocator.cc:1095] InUse at 7fd9b6caa900 of size 2048 next 37\n",
      "2024-01-28 18:18:00.388724: I external/local_tsl/tsl/framework/bfc_allocator.cc:1095] InUse at 7fd9b6cab100 of size 2048 next 38\n",
      "2024-01-28 18:18:00.388726: I external/local_tsl/tsl/framework/bfc_allocator.cc:1095] InUse at 7fd9b6cab900 of size 1024 next 40\n",
      "2024-01-28 18:18:00.388727: I external/local_tsl/tsl/framework/bfc_allocator.cc:1095] InUse at 7fd9b6cabd00 of size 1024 next 41\n",
      "2024-01-28 18:18:00.388729: I external/local_tsl/tsl/framework/bfc_allocator.cc:1095] InUse at 7fd9b6cac100 of size 111360 next 26\n",
      "2024-01-28 18:18:00.388732: I external/local_tsl/tsl/framework/bfc_allocator.cc:1095] InUse at 7fd9b6cc7400 of size 63488 next 27\n",
      "2024-01-28 18:18:00.388735: I external/local_tsl/tsl/framework/bfc_allocator.cc:1095] InUse at 7fd9b6cd6c00 of size 856576 next 21\n",
      "2024-01-28 18:18:00.388736: I external/local_tsl/tsl/framework/bfc_allocator.cc:1095] InUse at 7fd9b6da7e00 of size 524288 next 22\n",
      "2024-01-28 18:18:00.388738: I external/local_tsl/tsl/framework/bfc_allocator.cc:1095] InUse at 7fd9b6e27e00 of size 2618880 next 17\n",
      "2024-01-28 18:18:00.388740: I external/local_tsl/tsl/framework/bfc_allocator.cc:1095] InUse at 7fd9b70a7400 of size 2223360 next 11\n",
      "2024-01-28 18:18:00.388742: I external/local_tsl/tsl/framework/bfc_allocator.cc:1095] InUse at 7fd9b72c6100 of size 3211264 next 12\n",
      "2024-01-28 18:18:00.388744: I external/local_tsl/tsl/framework/bfc_allocator.cc:1095] InUse at 7fd9b75d6100 of size 3211264 next 32\n",
      "2024-01-28 18:18:00.388745: I external/local_tsl/tsl/framework/bfc_allocator.cc:1095] InUse at 7fd9b78e6100 of size 3211264 next 33\n",
      "2024-01-28 18:18:00.388747: I external/local_tsl/tsl/framework/bfc_allocator.cc:1095] InUse at 7fd9b7bf6100 of size 2097152 next 36\n",
      "2024-01-28 18:18:00.388749: I external/local_tsl/tsl/framework/bfc_allocator.cc:1095] InUse at 7fd9b7df6100 of size 524288 next 39\n",
      "2024-01-28 18:18:00.388751: I external/local_tsl/tsl/framework/bfc_allocator.cc:1095] InUse at 7fd9b7e76100 of size 63488 next 42\n",
      "2024-01-28 18:18:00.388752: I external/local_tsl/tsl/framework/bfc_allocator.cc:1095] InUse at 7fd9b7e85900 of size 256 next 43\n",
      "2024-01-28 18:18:00.388754: I external/local_tsl/tsl/framework/bfc_allocator.cc:1095] InUse at 7fd9b7e85a00 of size 256 next 44\n",
      "2024-01-28 18:18:00.388756: I external/local_tsl/tsl/framework/bfc_allocator.cc:1095] Free  at 7fd9b7e85b00 of size 256 next 68\n",
      "2024-01-28 18:18:00.388758: I external/local_tsl/tsl/framework/bfc_allocator.cc:1095] InUse at 7fd9b7e85c00 of size 256 next 46\n",
      "2024-01-28 18:18:00.388759: I external/local_tsl/tsl/framework/bfc_allocator.cc:1095] InUse at 7fd9b7e85d00 of size 256 next 47\n",
      "2024-01-28 18:18:00.388761: I external/local_tsl/tsl/framework/bfc_allocator.cc:1095] InUse at 7fd9b7e85e00 of size 256 next 48\n",
      "2024-01-28 18:18:00.388763: I external/local_tsl/tsl/framework/bfc_allocator.cc:1095] InUse at 7fd9b7e85f00 of size 256 next 49\n",
      "2024-01-28 18:18:00.388764: I external/local_tsl/tsl/framework/bfc_allocator.cc:1095] InUse at 7fd9b7e86000 of size 256 next 57\n",
      "2024-01-28 18:18:00.388766: I external/local_tsl/tsl/framework/bfc_allocator.cc:1095] InUse at 7fd9b7e86100 of size 256 next 45\n",
      "2024-01-28 18:18:00.388768: I external/local_tsl/tsl/framework/bfc_allocator.cc:1095] Free  at 7fd9b7e86200 of size 256 next 59\n",
      "2024-01-28 18:18:00.388769: I external/local_tsl/tsl/framework/bfc_allocator.cc:1095] InUse at 7fd9b7e86300 of size 256 next 50\n",
      "2024-01-28 18:18:00.388771: I external/local_tsl/tsl/framework/bfc_allocator.cc:1095] InUse at 7fd9b7e86400 of size 256 next 63\n",
      "2024-01-28 18:18:00.388773: I external/local_tsl/tsl/framework/bfc_allocator.cc:1095] Free  at 7fd9b7e86500 of size 400384 next 53\n",
      "2024-01-28 18:18:00.388775: I external/local_tsl/tsl/framework/bfc_allocator.cc:1095] InUse at 7fd9b7ee8100 of size 256 next 61\n",
      "2024-01-28 18:18:00.388777: I external/local_tsl/tsl/framework/bfc_allocator.cc:1095] Free  at 7fd9b7ee8200 of size 169246208 next 18446744073709551615\n",
      "2024-01-28 18:18:00.388779: I external/local_tsl/tsl/framework/bfc_allocator.cc:1100]      Summary of in-use Chunks by size: \n",
      "2024-01-28 18:18:00.388781: I external/local_tsl/tsl/framework/bfc_allocator.cc:1103] 29 Chunks of size 256 totalling 7.2KiB\n",
      "2024-01-28 18:18:00.388784: I external/local_tsl/tsl/framework/bfc_allocator.cc:1103] 3 Chunks of size 1024 totalling 3.0KiB\n",
      "2024-01-28 18:18:00.388786: I external/local_tsl/tsl/framework/bfc_allocator.cc:1103] 1 Chunks of size 1280 totalling 1.2KiB\n",
      "2024-01-28 18:18:00.388788: I external/local_tsl/tsl/framework/bfc_allocator.cc:1103] 3 Chunks of size 2048 totalling 6.0KiB\n",
      "2024-01-28 18:18:00.388790: I external/local_tsl/tsl/framework/bfc_allocator.cc:1103] 3 Chunks of size 4096 totalling 12.0KiB\n",
      "2024-01-28 18:18:00.388792: I external/local_tsl/tsl/framework/bfc_allocator.cc:1103] 2 Chunks of size 63488 totalling 124.0KiB\n",
      "2024-01-28 18:18:00.388794: I external/local_tsl/tsl/framework/bfc_allocator.cc:1103] 1 Chunks of size 111360 totalling 108.8KiB\n",
      "2024-01-28 18:18:00.388796: I external/local_tsl/tsl/framework/bfc_allocator.cc:1103] 2 Chunks of size 524288 totalling 1.00MiB\n",
      "2024-01-28 18:18:00.388798: I external/local_tsl/tsl/framework/bfc_allocator.cc:1103] 1 Chunks of size 856576 totalling 836.5KiB\n",
      "2024-01-28 18:18:00.388800: I external/local_tsl/tsl/framework/bfc_allocator.cc:1103] 1 Chunks of size 2097152 totalling 2.00MiB\n",
      "2024-01-28 18:18:00.388802: I external/local_tsl/tsl/framework/bfc_allocator.cc:1103] 1 Chunks of size 2223360 totalling 2.12MiB\n",
      "2024-01-28 18:18:00.388804: I external/local_tsl/tsl/framework/bfc_allocator.cc:1103] 1 Chunks of size 2618880 totalling 2.50MiB\n",
      "2024-01-28 18:18:00.388806: I external/local_tsl/tsl/framework/bfc_allocator.cc:1103] 3 Chunks of size 3211264 totalling 9.19MiB\n",
      "2024-01-28 18:18:00.388808: I external/local_tsl/tsl/framework/bfc_allocator.cc:1103] 1 Chunks of size 5583616 totalling 5.32MiB\n",
      "2024-01-28 18:18:00.388810: I external/local_tsl/tsl/framework/bfc_allocator.cc:1103] 1 Chunks of size 2188714752 totalling 2.04GiB\n",
      "2024-01-28 18:18:00.388812: I external/local_tsl/tsl/framework/bfc_allocator.cc:1107] Sum Total of in-use chunks: 2.06GiB\n",
      "2024-01-28 18:18:00.388815: I external/local_tsl/tsl/framework/bfc_allocator.cc:1109] Total bytes in pool: 2382692352 memory_limit_: 2382692352 available bytes: 0 curr_region_allocation_bytes_: 4765384704\n",
      "2024-01-28 18:18:00.388820: I external/local_tsl/tsl/framework/bfc_allocator.cc:1114] Stats: \n",
      "Limit:                      2382692352\n",
      "InUse:                      2213045248\n",
      "MaxInUse:                   2222684928\n",
      "NumAllocs:                     2563041\n",
      "MaxAllocSize:               2188714752\n",
      "Reserved:                            0\n",
      "PeakReserved:                        0\n",
      "LargestFreeBlock:                    0\n",
      "\n",
      "2024-01-28 18:18:00.388824: W external/local_tsl/tsl/framework/bfc_allocator.cc:497] *********************************************************************************************_______\n"
     ]
    },
    {
     "ename": "InternalError",
     "evalue": "Failed copying input tensor from /job:localhost/replica:0/task:0/device:CPU:0 to /job:localhost/replica:0/task:0/device:GPU:0 in order to run _EagerConst: Dst tensor is not initialized.",
     "output_type": "error",
     "traceback": [
      "\u001b[0;31m---------------------------------------------------------------------------\u001b[0m",
      "\u001b[0;31mInternalError\u001b[0m                             Traceback (most recent call last)",
      "Cell \u001b[0;32mIn[10], line 1\u001b[0m\n\u001b[0;32m----> 1\u001b[0m test_images \u001b[38;5;241m=\u001b[39m \u001b[43mfeatures_preprocessing_pileline\u001b[49m\u001b[38;5;241;43m.\u001b[39;49m\u001b[43mfit_transform\u001b[49m\u001b[43m(\u001b[49m\u001b[43mtest_images\u001b[49m\u001b[43m)\u001b[49m\n\u001b[1;32m      2\u001b[0m test_labels \u001b[38;5;241m=\u001b[39m tf\u001b[38;5;241m.\u001b[39mconvert_to_tensor(test_labels, dtype\u001b[38;5;241m=\u001b[39mtf\u001b[38;5;241m.\u001b[39mint64)\n\u001b[1;32m      3\u001b[0m test_loss, test_acc \u001b[38;5;241m=\u001b[39m model\u001b[38;5;241m.\u001b[39mevaluate(test_images, test_labels, verbose\u001b[38;5;241m=\u001b[39m\u001b[38;5;241m2\u001b[39m)\n",
      "File \u001b[0;32m~/.local/lib/python3.10/site-packages/sklearn/base.py:1351\u001b[0m, in \u001b[0;36m_fit_context.<locals>.decorator.<locals>.wrapper\u001b[0;34m(estimator, *args, **kwargs)\u001b[0m\n\u001b[1;32m   1344\u001b[0m     estimator\u001b[38;5;241m.\u001b[39m_validate_params()\n\u001b[1;32m   1346\u001b[0m \u001b[38;5;28;01mwith\u001b[39;00m config_context(\n\u001b[1;32m   1347\u001b[0m     skip_parameter_validation\u001b[38;5;241m=\u001b[39m(\n\u001b[1;32m   1348\u001b[0m         prefer_skip_nested_validation \u001b[38;5;129;01mor\u001b[39;00m global_skip_validation\n\u001b[1;32m   1349\u001b[0m     )\n\u001b[1;32m   1350\u001b[0m ):\n\u001b[0;32m-> 1351\u001b[0m     \u001b[38;5;28;01mreturn\u001b[39;00m \u001b[43mfit_method\u001b[49m\u001b[43m(\u001b[49m\u001b[43mestimator\u001b[49m\u001b[43m,\u001b[49m\u001b[43m \u001b[49m\u001b[38;5;241;43m*\u001b[39;49m\u001b[43margs\u001b[49m\u001b[43m,\u001b[49m\u001b[43m \u001b[49m\u001b[38;5;241;43m*\u001b[39;49m\u001b[38;5;241;43m*\u001b[39;49m\u001b[43mkwargs\u001b[49m\u001b[43m)\u001b[49m\n",
      "File \u001b[0;32m~/.local/lib/python3.10/site-packages/sklearn/pipeline.py:543\u001b[0m, in \u001b[0;36mPipeline.fit_transform\u001b[0;34m(self, X, y, **params)\u001b[0m\n\u001b[1;32m    541\u001b[0m last_step_params \u001b[38;5;241m=\u001b[39m routed_params[\u001b[38;5;28mself\u001b[39m\u001b[38;5;241m.\u001b[39msteps[\u001b[38;5;241m-\u001b[39m\u001b[38;5;241m1\u001b[39m][\u001b[38;5;241m0\u001b[39m]]\n\u001b[1;32m    542\u001b[0m \u001b[38;5;28;01mif\u001b[39;00m \u001b[38;5;28mhasattr\u001b[39m(last_step, \u001b[38;5;124m\"\u001b[39m\u001b[38;5;124mfit_transform\u001b[39m\u001b[38;5;124m\"\u001b[39m):\n\u001b[0;32m--> 543\u001b[0m     \u001b[38;5;28;01mreturn\u001b[39;00m \u001b[43mlast_step\u001b[49m\u001b[38;5;241;43m.\u001b[39;49m\u001b[43mfit_transform\u001b[49m\u001b[43m(\u001b[49m\n\u001b[1;32m    544\u001b[0m \u001b[43m        \u001b[49m\u001b[43mXt\u001b[49m\u001b[43m,\u001b[49m\u001b[43m \u001b[49m\u001b[43my\u001b[49m\u001b[43m,\u001b[49m\u001b[43m \u001b[49m\u001b[38;5;241;43m*\u001b[39;49m\u001b[38;5;241;43m*\u001b[39;49m\u001b[43mlast_step_params\u001b[49m\u001b[43m[\u001b[49m\u001b[38;5;124;43m\"\u001b[39;49m\u001b[38;5;124;43mfit_transform\u001b[39;49m\u001b[38;5;124;43m\"\u001b[39;49m\u001b[43m]\u001b[49m\n\u001b[1;32m    545\u001b[0m \u001b[43m    \u001b[49m\u001b[43m)\u001b[49m\n\u001b[1;32m    546\u001b[0m \u001b[38;5;28;01melse\u001b[39;00m:\n\u001b[1;32m    547\u001b[0m     \u001b[38;5;28;01mreturn\u001b[39;00m last_step\u001b[38;5;241m.\u001b[39mfit(Xt, y, \u001b[38;5;241m*\u001b[39m\u001b[38;5;241m*\u001b[39mlast_step_params[\u001b[38;5;124m\"\u001b[39m\u001b[38;5;124mfit\u001b[39m\u001b[38;5;124m\"\u001b[39m])\u001b[38;5;241m.\u001b[39mtransform(\n\u001b[1;32m    548\u001b[0m         Xt, \u001b[38;5;241m*\u001b[39m\u001b[38;5;241m*\u001b[39mlast_step_params[\u001b[38;5;124m\"\u001b[39m\u001b[38;5;124mtransform\u001b[39m\u001b[38;5;124m\"\u001b[39m]\n\u001b[1;32m    549\u001b[0m     )\n",
      "File \u001b[0;32m~/.local/lib/python3.10/site-packages/sklearn/utils/_set_output.py:273\u001b[0m, in \u001b[0;36m_wrap_method_output.<locals>.wrapped\u001b[0;34m(self, X, *args, **kwargs)\u001b[0m\n\u001b[1;32m    271\u001b[0m \u001b[38;5;129m@wraps\u001b[39m(f)\n\u001b[1;32m    272\u001b[0m \u001b[38;5;28;01mdef\u001b[39;00m \u001b[38;5;21mwrapped\u001b[39m(\u001b[38;5;28mself\u001b[39m, X, \u001b[38;5;241m*\u001b[39margs, \u001b[38;5;241m*\u001b[39m\u001b[38;5;241m*\u001b[39mkwargs):\n\u001b[0;32m--> 273\u001b[0m     data_to_wrap \u001b[38;5;241m=\u001b[39m \u001b[43mf\u001b[49m\u001b[43m(\u001b[49m\u001b[38;5;28;43mself\u001b[39;49m\u001b[43m,\u001b[49m\u001b[43m \u001b[49m\u001b[43mX\u001b[49m\u001b[43m,\u001b[49m\u001b[43m \u001b[49m\u001b[38;5;241;43m*\u001b[39;49m\u001b[43margs\u001b[49m\u001b[43m,\u001b[49m\u001b[43m \u001b[49m\u001b[38;5;241;43m*\u001b[39;49m\u001b[38;5;241;43m*\u001b[39;49m\u001b[43mkwargs\u001b[49m\u001b[43m)\u001b[49m\n\u001b[1;32m    274\u001b[0m     \u001b[38;5;28;01mif\u001b[39;00m \u001b[38;5;28misinstance\u001b[39m(data_to_wrap, \u001b[38;5;28mtuple\u001b[39m):\n\u001b[1;32m    275\u001b[0m         \u001b[38;5;66;03m# only wrap the first output for cross decomposition\u001b[39;00m\n\u001b[1;32m    276\u001b[0m         return_tuple \u001b[38;5;241m=\u001b[39m (\n\u001b[1;32m    277\u001b[0m             _wrap_data_with_container(method, data_to_wrap[\u001b[38;5;241m0\u001b[39m], X, \u001b[38;5;28mself\u001b[39m),\n\u001b[1;32m    278\u001b[0m             \u001b[38;5;241m*\u001b[39mdata_to_wrap[\u001b[38;5;241m1\u001b[39m:],\n\u001b[1;32m    279\u001b[0m         )\n",
      "File \u001b[0;32m~/.local/lib/python3.10/site-packages/sklearn/base.py:1061\u001b[0m, in \u001b[0;36mTransformerMixin.fit_transform\u001b[0;34m(self, X, y, **fit_params)\u001b[0m\n\u001b[1;32m   1046\u001b[0m         warnings\u001b[38;5;241m.\u001b[39mwarn(\n\u001b[1;32m   1047\u001b[0m             (\n\u001b[1;32m   1048\u001b[0m                 \u001b[38;5;124mf\u001b[39m\u001b[38;5;124m\"\u001b[39m\u001b[38;5;124mThis object (\u001b[39m\u001b[38;5;132;01m{\u001b[39;00m\u001b[38;5;28mself\u001b[39m\u001b[38;5;241m.\u001b[39m\u001b[38;5;18m__class__\u001b[39m\u001b[38;5;241m.\u001b[39m\u001b[38;5;18m__name__\u001b[39m\u001b[38;5;132;01m}\u001b[39;00m\u001b[38;5;124m) has a `transform`\u001b[39m\u001b[38;5;124m\"\u001b[39m\n\u001b[0;32m   (...)\u001b[0m\n\u001b[1;32m   1056\u001b[0m             \u001b[38;5;167;01mUserWarning\u001b[39;00m,\n\u001b[1;32m   1057\u001b[0m         )\n\u001b[1;32m   1059\u001b[0m \u001b[38;5;28;01mif\u001b[39;00m y \u001b[38;5;129;01mis\u001b[39;00m \u001b[38;5;28;01mNone\u001b[39;00m:\n\u001b[1;32m   1060\u001b[0m     \u001b[38;5;66;03m# fit method of arity 1 (unsupervised transformation)\u001b[39;00m\n\u001b[0;32m-> 1061\u001b[0m     \u001b[38;5;28;01mreturn\u001b[39;00m \u001b[38;5;28;43mself\u001b[39;49m\u001b[38;5;241;43m.\u001b[39;49m\u001b[43mfit\u001b[49m\u001b[43m(\u001b[49m\u001b[43mX\u001b[49m\u001b[43m,\u001b[49m\u001b[43m \u001b[49m\u001b[38;5;241;43m*\u001b[39;49m\u001b[38;5;241;43m*\u001b[39;49m\u001b[43mfit_params\u001b[49m\u001b[43m)\u001b[49m\u001b[38;5;241;43m.\u001b[39;49m\u001b[43mtransform\u001b[49m\u001b[43m(\u001b[49m\u001b[43mX\u001b[49m\u001b[43m)\u001b[49m\n\u001b[1;32m   1062\u001b[0m \u001b[38;5;28;01melse\u001b[39;00m:\n\u001b[1;32m   1063\u001b[0m     \u001b[38;5;66;03m# fit method of arity 2 (supervised transformation)\u001b[39;00m\n\u001b[1;32m   1064\u001b[0m     \u001b[38;5;28;01mreturn\u001b[39;00m \u001b[38;5;28mself\u001b[39m\u001b[38;5;241m.\u001b[39mfit(X, y, \u001b[38;5;241m*\u001b[39m\u001b[38;5;241m*\u001b[39mfit_params)\u001b[38;5;241m.\u001b[39mtransform(X)\n",
      "File \u001b[0;32m~/.local/lib/python3.10/site-packages/sklearn/utils/_set_output.py:273\u001b[0m, in \u001b[0;36m_wrap_method_output.<locals>.wrapped\u001b[0;34m(self, X, *args, **kwargs)\u001b[0m\n\u001b[1;32m    271\u001b[0m \u001b[38;5;129m@wraps\u001b[39m(f)\n\u001b[1;32m    272\u001b[0m \u001b[38;5;28;01mdef\u001b[39;00m \u001b[38;5;21mwrapped\u001b[39m(\u001b[38;5;28mself\u001b[39m, X, \u001b[38;5;241m*\u001b[39margs, \u001b[38;5;241m*\u001b[39m\u001b[38;5;241m*\u001b[39mkwargs):\n\u001b[0;32m--> 273\u001b[0m     data_to_wrap \u001b[38;5;241m=\u001b[39m \u001b[43mf\u001b[49m\u001b[43m(\u001b[49m\u001b[38;5;28;43mself\u001b[39;49m\u001b[43m,\u001b[49m\u001b[43m \u001b[49m\u001b[43mX\u001b[49m\u001b[43m,\u001b[49m\u001b[43m \u001b[49m\u001b[38;5;241;43m*\u001b[39;49m\u001b[43margs\u001b[49m\u001b[43m,\u001b[49m\u001b[43m \u001b[49m\u001b[38;5;241;43m*\u001b[39;49m\u001b[38;5;241;43m*\u001b[39;49m\u001b[43mkwargs\u001b[49m\u001b[43m)\u001b[49m\n\u001b[1;32m    274\u001b[0m     \u001b[38;5;28;01mif\u001b[39;00m \u001b[38;5;28misinstance\u001b[39m(data_to_wrap, \u001b[38;5;28mtuple\u001b[39m):\n\u001b[1;32m    275\u001b[0m         \u001b[38;5;66;03m# only wrap the first output for cross decomposition\u001b[39;00m\n\u001b[1;32m    276\u001b[0m         return_tuple \u001b[38;5;241m=\u001b[39m (\n\u001b[1;32m    277\u001b[0m             _wrap_data_with_container(method, data_to_wrap[\u001b[38;5;241m0\u001b[39m], X, \u001b[38;5;28mself\u001b[39m),\n\u001b[1;32m    278\u001b[0m             \u001b[38;5;241m*\u001b[39mdata_to_wrap[\u001b[38;5;241m1\u001b[39m:],\n\u001b[1;32m    279\u001b[0m         )\n",
      "File \u001b[0;32m~/.local/lib/python3.10/site-packages/sklearn/preprocessing/_function_transformer.py:242\u001b[0m, in \u001b[0;36mFunctionTransformer.transform\u001b[0;34m(self, X)\u001b[0m\n\u001b[1;32m    228\u001b[0m \u001b[38;5;250m\u001b[39m\u001b[38;5;124;03m\"\"\"Transform X using the forward function.\u001b[39;00m\n\u001b[1;32m    229\u001b[0m \n\u001b[1;32m    230\u001b[0m \u001b[38;5;124;03mParameters\u001b[39;00m\n\u001b[0;32m   (...)\u001b[0m\n\u001b[1;32m    239\u001b[0m \u001b[38;5;124;03m    Transformed input.\u001b[39;00m\n\u001b[1;32m    240\u001b[0m \u001b[38;5;124;03m\"\"\"\u001b[39;00m\n\u001b[1;32m    241\u001b[0m X \u001b[38;5;241m=\u001b[39m \u001b[38;5;28mself\u001b[39m\u001b[38;5;241m.\u001b[39m_check_input(X, reset\u001b[38;5;241m=\u001b[39m\u001b[38;5;28;01mFalse\u001b[39;00m)\n\u001b[0;32m--> 242\u001b[0m out \u001b[38;5;241m=\u001b[39m \u001b[38;5;28;43mself\u001b[39;49m\u001b[38;5;241;43m.\u001b[39;49m\u001b[43m_transform\u001b[49m\u001b[43m(\u001b[49m\u001b[43mX\u001b[49m\u001b[43m,\u001b[49m\u001b[43m \u001b[49m\u001b[43mfunc\u001b[49m\u001b[38;5;241;43m=\u001b[39;49m\u001b[38;5;28;43mself\u001b[39;49m\u001b[38;5;241;43m.\u001b[39;49m\u001b[43mfunc\u001b[49m\u001b[43m,\u001b[49m\u001b[43m \u001b[49m\u001b[43mkw_args\u001b[49m\u001b[38;5;241;43m=\u001b[39;49m\u001b[38;5;28;43mself\u001b[39;49m\u001b[38;5;241;43m.\u001b[39;49m\u001b[43mkw_args\u001b[49m\u001b[43m)\u001b[49m\n\u001b[1;32m    244\u001b[0m \u001b[38;5;28;01mif\u001b[39;00m \u001b[38;5;28mhasattr\u001b[39m(out, \u001b[38;5;124m\"\u001b[39m\u001b[38;5;124mcolumns\u001b[39m\u001b[38;5;124m\"\u001b[39m) \u001b[38;5;129;01mand\u001b[39;00m \u001b[38;5;28mself\u001b[39m\u001b[38;5;241m.\u001b[39mfeature_names_out \u001b[38;5;129;01mis\u001b[39;00m \u001b[38;5;129;01mnot\u001b[39;00m \u001b[38;5;28;01mNone\u001b[39;00m:\n\u001b[1;32m    245\u001b[0m     \u001b[38;5;66;03m# check the consistency between the column names of the output and the\u001b[39;00m\n\u001b[1;32m    246\u001b[0m     \u001b[38;5;66;03m# one generated by `get_feature_names_out`\u001b[39;00m\n\u001b[1;32m    247\u001b[0m     \u001b[38;5;28;01mif\u001b[39;00m \u001b[38;5;28mlist\u001b[39m(out\u001b[38;5;241m.\u001b[39mcolumns) \u001b[38;5;241m!=\u001b[39m \u001b[38;5;28mlist\u001b[39m(\u001b[38;5;28mself\u001b[39m\u001b[38;5;241m.\u001b[39mget_feature_names_out()):\n",
      "File \u001b[0;32m~/.local/lib/python3.10/site-packages/sklearn/preprocessing/_function_transformer.py:348\u001b[0m, in \u001b[0;36mFunctionTransformer._transform\u001b[0;34m(self, X, func, kw_args)\u001b[0m\n\u001b[1;32m    345\u001b[0m \u001b[38;5;28;01mif\u001b[39;00m func \u001b[38;5;129;01mis\u001b[39;00m \u001b[38;5;28;01mNone\u001b[39;00m:\n\u001b[1;32m    346\u001b[0m     func \u001b[38;5;241m=\u001b[39m _identity\n\u001b[0;32m--> 348\u001b[0m \u001b[38;5;28;01mreturn\u001b[39;00m \u001b[43mfunc\u001b[49m\u001b[43m(\u001b[49m\u001b[43mX\u001b[49m\u001b[43m,\u001b[49m\u001b[43m \u001b[49m\u001b[38;5;241;43m*\u001b[39;49m\u001b[38;5;241;43m*\u001b[39;49m\u001b[43m(\u001b[49m\u001b[43mkw_args\u001b[49m\u001b[43m \u001b[49m\u001b[38;5;28;43;01mif\u001b[39;49;00m\u001b[43m \u001b[49m\u001b[43mkw_args\u001b[49m\u001b[43m \u001b[49m\u001b[38;5;28;43;01melse\u001b[39;49;00m\u001b[43m \u001b[49m\u001b[43m{\u001b[49m\u001b[43m}\u001b[49m\u001b[43m)\u001b[49m\u001b[43m)\u001b[49m\n",
      "Cell \u001b[0;32mIn[5], line 2\u001b[0m, in \u001b[0;36m<lambda>\u001b[0;34m(x)\u001b[0m\n\u001b[1;32m      1\u001b[0m features_preprocessing_pileline \u001b[38;5;241m=\u001b[39m pipeline\u001b[38;5;241m.\u001b[39mmake_pipeline(\n\u001b[0;32m----> 2\u001b[0m     preprocessing\u001b[38;5;241m.\u001b[39mFunctionTransformer(\u001b[38;5;28;01mlambda\u001b[39;00m x: \u001b[43mtf\u001b[49m\u001b[38;5;241;43m.\u001b[39;49m\u001b[43mconvert_to_tensor\u001b[49m\u001b[43m(\u001b[49m\u001b[43mx\u001b[49m\u001b[43m,\u001b[49m\u001b[43m \u001b[49m\u001b[43mdtype\u001b[49m\u001b[38;5;241;43m=\u001b[39;49m\u001b[43mtf\u001b[49m\u001b[38;5;241;43m.\u001b[39;49m\u001b[43mfloat32\u001b[49m\u001b[43m)\u001b[49m)\n\u001b[1;32m      3\u001b[0m )\n\u001b[1;32m      5\u001b[0m train_images \u001b[38;5;241m=\u001b[39m features_preprocessing_pileline\u001b[38;5;241m.\u001b[39mfit_transform(train_images)\n\u001b[1;32m      7\u001b[0m train_labels \u001b[38;5;241m=\u001b[39m tf\u001b[38;5;241m.\u001b[39mconvert_to_tensor(train_labels, dtype\u001b[38;5;241m=\u001b[39mtf\u001b[38;5;241m.\u001b[39mint64)\n",
      "File \u001b[0;32m~/.local/lib/python3.10/site-packages/tensorflow/python/util/traceback_utils.py:153\u001b[0m, in \u001b[0;36mfilter_traceback.<locals>.error_handler\u001b[0;34m(*args, **kwargs)\u001b[0m\n\u001b[1;32m    151\u001b[0m \u001b[38;5;28;01mexcept\u001b[39;00m \u001b[38;5;167;01mException\u001b[39;00m \u001b[38;5;28;01mas\u001b[39;00m e:\n\u001b[1;32m    152\u001b[0m   filtered_tb \u001b[38;5;241m=\u001b[39m _process_traceback_frames(e\u001b[38;5;241m.\u001b[39m__traceback__)\n\u001b[0;32m--> 153\u001b[0m   \u001b[38;5;28;01mraise\u001b[39;00m e\u001b[38;5;241m.\u001b[39mwith_traceback(filtered_tb) \u001b[38;5;28;01mfrom\u001b[39;00m \u001b[38;5;28;01mNone\u001b[39;00m\n\u001b[1;32m    154\u001b[0m \u001b[38;5;28;01mfinally\u001b[39;00m:\n\u001b[1;32m    155\u001b[0m   \u001b[38;5;28;01mdel\u001b[39;00m filtered_tb\n",
      "File \u001b[0;32m~/.local/lib/python3.10/site-packages/tensorflow/python/framework/constant_op.py:103\u001b[0m, in \u001b[0;36mconvert_to_eager_tensor\u001b[0;34m(value, ctx, dtype)\u001b[0m\n\u001b[1;32m    101\u001b[0m     dtype \u001b[38;5;241m=\u001b[39m dtypes\u001b[38;5;241m.\u001b[39mas_dtype(dtype)\u001b[38;5;241m.\u001b[39mas_datatype_enum\n\u001b[1;32m    102\u001b[0m ctx\u001b[38;5;241m.\u001b[39mensure_initialized()\n\u001b[0;32m--> 103\u001b[0m \u001b[38;5;28;01mreturn\u001b[39;00m \u001b[43mops\u001b[49m\u001b[38;5;241;43m.\u001b[39;49m\u001b[43mEagerTensor\u001b[49m\u001b[43m(\u001b[49m\u001b[43mvalue\u001b[49m\u001b[43m,\u001b[49m\u001b[43m \u001b[49m\u001b[43mctx\u001b[49m\u001b[38;5;241;43m.\u001b[39;49m\u001b[43mdevice_name\u001b[49m\u001b[43m,\u001b[49m\u001b[43m \u001b[49m\u001b[43mdtype\u001b[49m\u001b[43m)\u001b[49m\n",
      "\u001b[0;31mInternalError\u001b[0m: Failed copying input tensor from /job:localhost/replica:0/task:0/device:CPU:0 to /job:localhost/replica:0/task:0/device:GPU:0 in order to run _EagerConst: Dst tensor is not initialized."
     ]
    }
   ],
   "source": [
    "\n",
    "\n",
    "test_images = features_preprocessing_pileline.fit_transform(test_images)\n",
    "test_labels = tf.convert_to_tensor(test_labels, dtype=tf.int64)\n",
    "test_loss, test_acc = model.evaluate(test_images, test_labels, verbose=2)\n"
   ]
  }
 ],
 "metadata": {
  "kernelspec": {
   "display_name": "Python 3",
   "language": "python",
   "name": "python3"
  },
  "language_info": {
   "codemirror_mode": {
    "name": "ipython",
    "version": 3
   },
   "file_extension": ".py",
   "mimetype": "text/x-python",
   "name": "python",
   "nbconvert_exporter": "python",
   "pygments_lexer": "ipython3",
   "version": "3.10.12"
  }
 },
 "nbformat": 4,
 "nbformat_minor": 2
}
